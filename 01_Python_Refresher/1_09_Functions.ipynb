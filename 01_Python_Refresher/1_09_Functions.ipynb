{
 "cells": [
  {
   "cell_type": "markdown",
   "metadata": {},
   "source": [
    "*Автор: Валентина Лебедева*\n",
    "\n",
    "### Python Refresher | Функции"
   ]
  },
  {
   "cell_type": "markdown",
   "metadata": {},
   "source": [
    "## Функции "
   ]
  },
  {
   "cell_type": "markdown",
   "metadata": {},
   "source": [
    "Начиная с первого семинара, мы активно используем встроенные функции python (такие, как print, int и другие).  \n",
    "Настало время научиться создавать свои.\n",
    "\n",
    "Когда нам может понадобиться создать функцию?\n",
    "\n",
    "* Когда какой-то блок кода потребуется переиспользовать (и не подряд, как в случае цикла, а из разных мест программы)\n",
    "* Когда код становится очень большим, мы можем какие-то его части оформлять в виде функций, чтобы улучшить его читаемость"
   ]
  },
  {
   "cell_type": "markdown",
   "metadata": {},
   "source": [
    "Давайте научимся создавать функции на примере функции для подсчета факториала числа.  \n",
    "\n",
    "Напомним, что факториал целого числа n - это произведение целых чисел от 1 до n:  \n",
    "4! = 1 * 2 * 3 * 4"
   ]
  },
  {
   "cell_type": "markdown",
   "metadata": {},
   "source": [
    "Сначала решим эту задачу без создания функции."
   ]
  },
  {
   "cell_type": "code",
   "execution_count": 82,
   "metadata": {},
   "outputs": [
    {
     "name": "stdout",
     "output_type": "stream",
     "text": [
      "Number here: 4\n",
      "24\n"
     ]
    }
   ],
   "source": [
    "n = int(input('Number here: '))\n",
    "\n",
    "fact = 1 # 0! и 1! равны 1, так что наше стартовое значение факториала будет равно 1\n",
    "\n",
    "for i in range(2, n + 1):\n",
    "    fact *= i\n",
    "    \n",
    "print(fact)"
   ]
  },
  {
   "cell_type": "markdown",
   "metadata": {},
   "source": [
    "Теперь вынесем подсчет факториала в функцию:"
   ]
  },
  {
   "cell_type": "code",
   "execution_count": 83,
   "metadata": {},
   "outputs": [],
   "source": [
    "def factorial(n): # factorial - название функции, n - ее аргумент, параметр, от которого зависит результат\n",
    "    fact = 1\n",
    "\n",
    "    for i in range(2, n + 1):\n",
    "        fact *= i\n",
    "    return fact # когда результат получен, его надо вернуть с помощью ключевого слова return"
   ]
  },
  {
   "cell_type": "markdown",
   "metadata": {},
   "source": [
    "Теперь мы можем вызывать нашу функцию и пользоваться ей, как если бы она была встроенной."
   ]
  },
  {
   "cell_type": "code",
   "execution_count": 85,
   "metadata": {},
   "outputs": [
    {
     "name": "stdout",
     "output_type": "stream",
     "text": [
      "Number here: 5\n",
      "120\n"
     ]
    }
   ],
   "source": [
    "n = int(input('Number here: '))\n",
    "print(factorial(n))"
   ]
  },
  {
   "cell_type": "markdown",
   "metadata": {},
   "source": [
    "Функции могут иметь много аргументов/параметров. В качестве аргументов могут выступать:\n",
    "* константные значения \n",
    "* переменные\n",
    "* результаты вычисления выражений и исполнения других функций"
   ]
  },
  {
   "cell_type": "markdown",
   "metadata": {},
   "source": [
    "Команда return завершает исполнение функции, возвращая ее значение.  \n",
    "\n",
    "Можно прописать возвращение нескольких значений в разных местах. Например, вернемся снова к поиску минимума на двух числах:"
   ]
  },
  {
   "cell_type": "code",
   "execution_count": 86,
   "metadata": {},
   "outputs": [],
   "source": [
    "def min1(a, b):\n",
    "    if a < b:\n",
    "        return a\n",
    "    else:\n",
    "        return b"
   ]
  },
  {
   "cell_type": "code",
   "execution_count": 87,
   "metadata": {},
   "outputs": [
    {
     "name": "stdout",
     "output_type": "stream",
     "text": [
      "3\n",
      "5\n",
      "3\n"
     ]
    }
   ],
   "source": [
    "a = int(input())\n",
    "b = int(input())\n",
    "print(min1(a, b))"
   ]
  },
  {
   "cell_type": "markdown",
   "metadata": {},
   "source": [
    "Теперь с использованием этой функции можно написать поиск минимума на трех числах."
   ]
  },
  {
   "cell_type": "code",
   "execution_count": 88,
   "metadata": {},
   "outputs": [],
   "source": [
    "def min2(a, b, c):\n",
    "    return min1(a, min1(b, c))"
   ]
  },
  {
   "cell_type": "code",
   "execution_count": 89,
   "metadata": {},
   "outputs": [
    {
     "name": "stdout",
     "output_type": "stream",
     "text": [
      "4\n",
      "3\n",
      "5\n",
      "3\n"
     ]
    }
   ],
   "source": [
    "a = int(input())\n",
    "b = int(input())\n",
    "c = int(input())\n",
    "print(min2(a, b, c))"
   ]
  },
  {
   "cell_type": "markdown",
   "metadata": {},
   "source": [
    "Можно вернуть и несколько значений в одном месте. Например, отсортируем два числа в порядке возрастания:"
   ]
  },
  {
   "cell_type": "code",
   "execution_count": 90,
   "metadata": {},
   "outputs": [],
   "source": [
    "def sort2(a, b):\n",
    "    if a < b:\n",
    "        return a, b\n",
    "    else:\n",
    "        return b, a"
   ]
  },
  {
   "cell_type": "code",
   "execution_count": 93,
   "metadata": {},
   "outputs": [
    {
     "name": "stdout",
     "output_type": "stream",
     "text": [
      "5\n",
      "3\n",
      "(3, 5)\n"
     ]
    }
   ],
   "source": [
    "a = int(input())\n",
    "b = int(input())\n",
    "print(sort2(a, b))"
   ]
  },
  {
   "cell_type": "markdown",
   "metadata": {},
   "source": [
    "### Глобальные и локальные переменные"
   ]
  },
  {
   "cell_type": "markdown",
   "metadata": {},
   "source": [
    "Если переменная задается вне тела функции - это **глобальная переменная**, она \"видна\" и может использоваться в любом месте программы.\n",
    "\n",
    "Если переменная задается внутри тела функции - это **локальная переменная**, которая существует только внутри функции."
   ]
  },
  {
   "cell_type": "code",
   "execution_count": 108,
   "metadata": {},
   "outputs": [
    {
     "ename": "NameError",
     "evalue": "name 'x' is not defined",
     "output_type": "error",
     "traceback": [
      "\u001b[0;31m---------------------------------------------------------------------------\u001b[0m",
      "\u001b[0;31mNameError\u001b[0m                                 Traceback (most recent call last)",
      "\u001b[0;32m<ipython-input-108-39cacd033cd4>\u001b[0m in \u001b[0;36m<module>\u001b[0;34m\u001b[0m\n\u001b[1;32m      4\u001b[0m \u001b[0;34m\u001b[0m\u001b[0m\n\u001b[1;32m      5\u001b[0m \u001b[0mf\u001b[0m\u001b[0;34m(\u001b[0m\u001b[0;34m)\u001b[0m\u001b[0;34m\u001b[0m\u001b[0;34m\u001b[0m\u001b[0m\n\u001b[0;32m----> 6\u001b[0;31m \u001b[0mprint\u001b[0m\u001b[0;34m(\u001b[0m\u001b[0mx\u001b[0m\u001b[0;34m)\u001b[0m \u001b[0;31m# программа видит переменную x только внутри функции\u001b[0m\u001b[0;34m\u001b[0m\u001b[0;34m\u001b[0m\u001b[0m\n\u001b[0m",
      "\u001b[0;31mNameError\u001b[0m: name 'x' is not defined"
     ]
    }
   ],
   "source": [
    "def f():\n",
    "    x = 1\n",
    "\n",
    "\n",
    "f()\n",
    "print(x) # программа видит переменную x только внутри функции"
   ]
  },
  {
   "cell_type": "markdown",
   "metadata": {},
   "source": [
    "Переменную, созданную внутри функции, можно объявить как глобальную с помощью ключевого слова global (лучше этим не злоупотреблять)."
   ]
  },
  {
   "cell_type": "code",
   "execution_count": 109,
   "metadata": {},
   "outputs": [
    {
     "name": "stdout",
     "output_type": "stream",
     "text": [
      "1\n"
     ]
    }
   ],
   "source": [
    "def f():\n",
    "    global x  # объявляем переменную x - глобальной, она сохранится и вне функции.\n",
    "    x = 1\n",
    "\n",
    "\n",
    "f()\n",
    "print(x)"
   ]
  },
  {
   "cell_type": "markdown",
   "metadata": {},
   "source": [
    "### Распаковка и оператор * (раздел повышенного уровня сложности)"
   ]
  },
  {
   "cell_type": "markdown",
   "metadata": {},
   "source": [
    "В примере выше мы увидели, что при возвращении из функции нескольких значений эти значения оборачиваются в кортеж.  \n",
    "Мы можем \"распаковать\" этот кортеж и извлечь эти значения в отдельные переменные."
   ]
  },
  {
   "cell_type": "code",
   "execution_count": 94,
   "metadata": {},
   "outputs": [
    {
     "name": "stdout",
     "output_type": "stream",
     "text": [
      "3 5\n"
     ]
    }
   ],
   "source": [
    "minimum, maximum = sort2(a, b)\n",
    "print(minimum, maximum)"
   ]
  },
  {
   "cell_type": "markdown",
   "metadata": {},
   "source": [
    "Распаковка работает не только с результатами вызова функции, но и с любыми кортежами и списками."
   ]
  },
  {
   "cell_type": "code",
   "execution_count": 95,
   "metadata": {},
   "outputs": [
    {
     "name": "stdout",
     "output_type": "stream",
     "text": [
      "1 2 3\n"
     ]
    }
   ],
   "source": [
    "first, second, third = (1, 2, 3)\n",
    "print(first, second, third)"
   ]
  },
  {
   "cell_type": "code",
   "execution_count": 96,
   "metadata": {},
   "outputs": [
    {
     "name": "stdout",
     "output_type": "stream",
     "text": [
      "4 5 6\n"
     ]
    }
   ],
   "source": [
    "first, second, third = [4, 5, 6]\n",
    "print(first, second, third)"
   ]
  },
  {
   "cell_type": "markdown",
   "metadata": {},
   "source": [
    "Мы можем извлечь из списка или кортежа несколько переменных, а остаток сохранить в новый список с помощью оператора *."
   ]
  },
  {
   "cell_type": "code",
   "execution_count": 101,
   "metadata": {},
   "outputs": [
    {
     "name": "stdout",
     "output_type": "stream",
     "text": [
      "0 1 [2, 3, 4, 5, 6, 7, 8, 9]\n"
     ]
    }
   ],
   "source": [
    "first, second, *newList = list(range(10))\n",
    "print(first, second, newList)"
   ]
  },
  {
   "cell_type": "markdown",
   "metadata": {},
   "source": [
    "Что делает это оператор \\*? Он \"раскрывает\" список newList и заставляет программу видеть его так, будто это не список, а просто все его элементы, записанные через запятую.\n",
    "\n",
    "Таким образом мы можем выводить элементы списка через пробел без использования .join() и map()."
   ]
  },
  {
   "cell_type": "code",
   "execution_count": 103,
   "metadata": {},
   "outputs": [
    {
     "name": "stdout",
     "output_type": "stream",
     "text": [
      "0 1 2 3 4 5 6 7 8 9\n"
     ]
    }
   ],
   "source": [
    "print(*list(range(10)))"
   ]
  },
  {
   "cell_type": "markdown",
   "metadata": {},
   "source": [
    "Еще один интересный эффект оператора \\* - возможность создания функций с неограниченным числом параметров.  \n",
    "\n",
    "В качестве примера можно рассмотреть функцию, которая суммирует свои аргументы."
   ]
  },
  {
   "cell_type": "code",
   "execution_count": 104,
   "metadata": {},
   "outputs": [],
   "source": [
    "def mySum(*args):\n",
    "    numSum = 0\n",
    "    for number in args:\n",
    "        numSum += number\n",
    "    return numSum"
   ]
  },
  {
   "cell_type": "code",
   "execution_count": 105,
   "metadata": {},
   "outputs": [
    {
     "name": "stdout",
     "output_type": "stream",
     "text": [
      "3\n",
      "10\n"
     ]
    }
   ],
   "source": [
    "print(mySum(1, 2))\n",
    "print(mySum(1, 2, 3, 4))"
   ]
  },
  {
   "cell_type": "markdown",
   "metadata": {},
   "source": [
    "# Задачи для тренировки\n",
    "Часть из этих задач мы решим в классе. Но если мы даже не успеем - попытайтесь сделать их дома сами.\n",
    "\n",
    "## Округление списка чисел\n",
    "\n",
    "На вход подается список чисел с плавающей точкой через пробел. Верните список, содержащий результаты округления этих чисел.  \n",
    "Решите задание двумя способами - через цикл for или через функцию map.\n",
    "\n",
    "### Вариант полегче\n",
    "\n",
    "Решите задачу с помощью встроенной функции round  \n",
    "\n",
    "### Вариант посложнее\n",
    "\n",
    "Решите задачу, написав свою функцию, округляющую числа по российским правилам (дробная часть, равная 0.5, округляется вверх)"
   ]
  },
  {
   "cell_type": "markdown",
   "metadata": {},
   "source": [
    "## Суммы цифр\n",
    "\n",
    "На вход подается список целых чисел. Верните список, содержащий суммы цифр этих чисел.  \n",
    "Решите задание двумя способами - через цикл for или через функцию map.\n",
    "\n",
    "\n",
    "**Пример ввода**  \n",
    "765 98 7 5555 13\n",
    "**"
   ]
  },
  {
   "cell_type": "code",
   "execution_count": 1,
   "metadata": {},
   "outputs": [],
   "source": [
    "# решение здесь"
   ]
  }
 ],
 "metadata": {
  "kernelspec": {
   "display_name": "Python 3",
   "language": "python",
   "name": "python3"
  },
  "language_info": {
   "codemirror_mode": {
    "name": "ipython",
    "version": 3
   },
   "file_extension": ".py",
   "mimetype": "text/x-python",
   "name": "python",
   "nbconvert_exporter": "python",
   "pygments_lexer": "ipython3",
   "version": "3.6.5"
  }
 },
 "nbformat": 4,
 "nbformat_minor": 2
}
