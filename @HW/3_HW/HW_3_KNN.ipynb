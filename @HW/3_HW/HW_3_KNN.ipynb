{
 "cells": [
  {
   "cell_type": "markdown",
   "metadata": {},
   "source": [
    "*Автор: Татьяна Рогович, Валентин Бирюков*\n",
    "\n",
    "## Домашнее задание KNN"
   ]
  },
  {
   "cell_type": "markdown",
   "metadata": {},
   "source": [
    "## Про оценивание"
   ]
  },
  {
   "cell_type": "markdown",
   "metadata": {},
   "source": [
    "В рамках данной работы вы можете набрать даже не 10, а целых 13 баллов. Доп. балл идет в счет этой домашней работы и может потом быть перенесен на другие элементы."
   ]
  },
  {
   "cell_type": "markdown",
   "metadata": {},
   "source": [
    "# Метод k-ближайших соседей (kNN)\n",
    "\n",
    "Давайте перейдем к более прикладным задачам и сначала познакомимся с методом k-ближайщих соседей. \n",
    "\n",
    "`kNN` расшифровывается как `k Nearest Neighbor` или `k Ближайших Соседей` — это один из самых простых алгоритмов классификации, также иногда используемый в задачах регрессии. Задача классификации в машинном обучении — это задача отнесения объекта к одному из заранее определенных классов на основании его формализованных признаков. Каждый из объектов в этой задаче представляется в виде вектора в N-мерном пространстве, каждое измерение в котором представляет собой описание одного из признаков объекта. Допустим нам нужно классифицировать мониторы: измерениями в нашем пространстве параметров будут величина диагонали в дюймах, соотношение сторон, максимальное разрешение, наличие HDMI-интерфейса, стоимость и др. \n",
    "\n",
    "\n",
    "## Теория\n",
    "\n",
    "Идея за алгоритмом kNN довольно простая. Он просто считает расстояние от новой точки до всех известных обучающих точек. Расстояние может быть найдено разными способами. Далее выбирает k-ближайщих точек, где k - целое число. Для этих k-соседей метки класса мы знаем (или значение целевой количественной переменной). И в конце, на основе класса, к которому принадлежит большинство отобранных точек, присваивается класс новой точке.\n",
    "\n",
    "Давайте посмотрим на работу алгоритма на основе простого примера. Допустим, у нас есть датасет с двумя переменными, которые изображены на рисунке ниже.\n",
    "\n",
    "![image.png](https://github.com/rogovich/Data/blob/master/img/knn/1.png?raw=true)\n",
    "\n",
    "Нашей задачей будет классифицировать новую точку 'X' в один из классов: `фиолетовый` или `красный`. Координаты нашей точки будет равны: x = 45 и y = 50. Пусть количество соседей (k) равно `3`. Алгоритм КНН посчитает расстояния от точки Х до всех остальных точек. Затем он найдет ближайщие по расстоянию до точки Х точки. Они показаны на рисунке ниже. Три ближайшие точки находятся внутри круга.\n",
    "\n",
    "![image.png](https://github.com/rogovich/Data/blob/master/img/knn/2.png?raw=true)\n",
    "\n",
    "Последний шагом алгоритма будет присвоение новой точке класса большинства ближайших точек вокруг. На изображении выше видно, что две из трех ближайших точек принадлежат классу `красный` и одна тчока принадлежит классу `фиолетовый`. Поэтому новая точка будет классифицирована как `красный`."
   ]
  },
  {
   "cell_type": "markdown",
   "metadata": {},
   "source": [
    "## Датасет\n",
    "\n",
    "В качестве датасет мы будем использовать знаменитый датасет `iris`. Датасет состоит из четырех атрибутов: `sepal-width`, `sepal-length`, `petal-width` и `petal-length`. Это атрибуты конкретных типов растения ирис. Задачей является предсказать, к какому типу ириса относится конкретное растение. Есть три класса в нашем датасете: `Iris-setosa`, `Iris-versicolor` и `Iris-virginica`.\n",
    "\n",
    "Каждое растение имеет уникальные признаки: `sepal length` (длина чашелистика), `sepal width` (ширина чашелистика), `petal length` (длина лепестка) и `petal width` (ширина лепестка). \n",
    "\n",
    "Давайте посмотрим на данные в pandas, но работать для реализации классов будем со списками."
   ]
  },
  {
   "cell_type": "code",
   "execution_count": 1,
   "metadata": {},
   "outputs": [
    {
     "data": {
      "text/html": [
       "<div>\n",
       "<style scoped>\n",
       "    .dataframe tbody tr th:only-of-type {\n",
       "        vertical-align: middle;\n",
       "    }\n",
       "\n",
       "    .dataframe tbody tr th {\n",
       "        vertical-align: top;\n",
       "    }\n",
       "\n",
       "    .dataframe thead th {\n",
       "        text-align: right;\n",
       "    }\n",
       "</style>\n",
       "<table border=\"1\" class=\"dataframe\">\n",
       "  <thead>\n",
       "    <tr style=\"text-align: right;\">\n",
       "      <th></th>\n",
       "      <th>sepal-length</th>\n",
       "      <th>sepal-width</th>\n",
       "      <th>petal-length</th>\n",
       "      <th>petal-width</th>\n",
       "      <th>Class</th>\n",
       "    </tr>\n",
       "  </thead>\n",
       "  <tbody>\n",
       "    <tr>\n",
       "      <th>0</th>\n",
       "      <td>5.1</td>\n",
       "      <td>3.5</td>\n",
       "      <td>1.4</td>\n",
       "      <td>0.2</td>\n",
       "      <td>Iris-setosa</td>\n",
       "    </tr>\n",
       "    <tr>\n",
       "      <th>1</th>\n",
       "      <td>4.9</td>\n",
       "      <td>3.0</td>\n",
       "      <td>1.4</td>\n",
       "      <td>0.2</td>\n",
       "      <td>Iris-setosa</td>\n",
       "    </tr>\n",
       "    <tr>\n",
       "      <th>2</th>\n",
       "      <td>4.7</td>\n",
       "      <td>3.2</td>\n",
       "      <td>1.3</td>\n",
       "      <td>0.2</td>\n",
       "      <td>Iris-setosa</td>\n",
       "    </tr>\n",
       "    <tr>\n",
       "      <th>3</th>\n",
       "      <td>4.6</td>\n",
       "      <td>3.1</td>\n",
       "      <td>1.5</td>\n",
       "      <td>0.2</td>\n",
       "      <td>Iris-setosa</td>\n",
       "    </tr>\n",
       "    <tr>\n",
       "      <th>4</th>\n",
       "      <td>5.0</td>\n",
       "      <td>3.6</td>\n",
       "      <td>1.4</td>\n",
       "      <td>0.2</td>\n",
       "      <td>Iris-setosa</td>\n",
       "    </tr>\n",
       "    <tr>\n",
       "      <th>...</th>\n",
       "      <td>...</td>\n",
       "      <td>...</td>\n",
       "      <td>...</td>\n",
       "      <td>...</td>\n",
       "      <td>...</td>\n",
       "    </tr>\n",
       "    <tr>\n",
       "      <th>145</th>\n",
       "      <td>6.7</td>\n",
       "      <td>3.0</td>\n",
       "      <td>5.2</td>\n",
       "      <td>2.3</td>\n",
       "      <td>Iris-virginica</td>\n",
       "    </tr>\n",
       "    <tr>\n",
       "      <th>146</th>\n",
       "      <td>6.3</td>\n",
       "      <td>2.5</td>\n",
       "      <td>5.0</td>\n",
       "      <td>1.9</td>\n",
       "      <td>Iris-virginica</td>\n",
       "    </tr>\n",
       "    <tr>\n",
       "      <th>147</th>\n",
       "      <td>6.5</td>\n",
       "      <td>3.0</td>\n",
       "      <td>5.2</td>\n",
       "      <td>2.0</td>\n",
       "      <td>Iris-virginica</td>\n",
       "    </tr>\n",
       "    <tr>\n",
       "      <th>148</th>\n",
       "      <td>6.2</td>\n",
       "      <td>3.4</td>\n",
       "      <td>5.4</td>\n",
       "      <td>2.3</td>\n",
       "      <td>Iris-virginica</td>\n",
       "    </tr>\n",
       "    <tr>\n",
       "      <th>149</th>\n",
       "      <td>5.9</td>\n",
       "      <td>3.0</td>\n",
       "      <td>5.1</td>\n",
       "      <td>1.8</td>\n",
       "      <td>Iris-virginica</td>\n",
       "    </tr>\n",
       "  </tbody>\n",
       "</table>\n",
       "<p>150 rows × 5 columns</p>\n",
       "</div>"
      ],
      "text/plain": [
       "     sepal-length  sepal-width  petal-length  petal-width           Class\n",
       "0             5.1          3.5           1.4          0.2     Iris-setosa\n",
       "1             4.9          3.0           1.4          0.2     Iris-setosa\n",
       "2             4.7          3.2           1.3          0.2     Iris-setosa\n",
       "3             4.6          3.1           1.5          0.2     Iris-setosa\n",
       "4             5.0          3.6           1.4          0.2     Iris-setosa\n",
       "..            ...          ...           ...          ...             ...\n",
       "145           6.7          3.0           5.2          2.3  Iris-virginica\n",
       "146           6.3          2.5           5.0          1.9  Iris-virginica\n",
       "147           6.5          3.0           5.2          2.0  Iris-virginica\n",
       "148           6.2          3.4           5.4          2.3  Iris-virginica\n",
       "149           5.9          3.0           5.1          1.8  Iris-virginica\n",
       "\n",
       "[150 rows x 5 columns]"
      ]
     },
     "execution_count": 1,
     "metadata": {},
     "output_type": "execute_result"
    }
   ],
   "source": [
    "import pandas as pd\n",
    "import numpy as np\n",
    "\n",
    "url = \"https://archive.ics.uci.edu/ml/machine-learning-databases/iris/iris.data\"\n",
    "\n",
    "# Назовем колонки датасета\n",
    "names = ['sepal-length', 'sepal-width', 'petal-length', 'petal-width', 'Class']\n",
    "\n",
    "# создадим датасет\n",
    "dataset = pd.read_csv(url, names=names)\n",
    "dataset"
   ]
  },
  {
   "cell_type": "markdown",
   "metadata": {},
   "source": [
    "**Подготовим данные**\n",
    "\n",
    "Подготовьте данные для работы: в переменную X определите список из пар чисел отвечающих за sepal-length и sepal-width соответственно. В переменную y - за правильные классы для тех же строк."
   ]
  },
  {
   "cell_type": "code",
   "execution_count": 2,
   "metadata": {},
   "outputs": [],
   "source": [
    "X = dataset[['sepal-length', 'sepal-width']].values\n",
    "y = dataset['Class'].values"
   ]
  },
  {
   "cell_type": "markdown",
   "metadata": {},
   "source": [
    "### Задание 1 (0.5 балла)\n",
    "1. Напечатайте размерность X, y\n",
    "2. Напечатайте тип данных X, y\n",
    "3. Из переменных X и y Выведете значение sepal-length, sepal-width и Class для третьего ириса в выборке (три числа именно в этом порядке.)"
   ]
  },
  {
   "cell_type": "code",
   "execution_count": 1,
   "metadata": {},
   "outputs": [],
   "source": [
    "# ваш код здесь"
   ]
  },
  {
   "cell_type": "markdown",
   "metadata": {},
   "source": [
    "### Задание 2 (0.5 балла)\n",
    "\n",
    "Визуализируйте данные - отобразите на графике зависимость ширины от длины ирисов (что зависит, то по y), которые хранятся в переменной X. Для цвета используйте переменную `y_cat` (мы перекодировали ее для вас в числовые метки классов)."
   ]
  },
  {
   "cell_type": "code",
   "execution_count": 36,
   "metadata": {},
   "outputs": [
    {
     "data": {
      "image/png": "[encoded data removed]",
      "text/plain": [
       "<Figure size 432x288 with 1 Axes>"
      ]
     },
     "metadata": {},
     "output_type": "display_data"
    }
   ],
   "source": [
    "import matplotlib.pyplot as plt\n",
    "%matplotlib inline\n",
    "y_cat = pd.factorize(y)[0]\n",
    "\n",
    "# ваш код для построения графика здесь\n",
    "plt.title(\"Iris Sepal-width vs Sepal-length\")\n",
    "plt.show()"
   ]
  },
  {
   "cell_type": "markdown",
   "metadata": {},
   "source": [
    "### Задание 3 (0.5 балла)\n",
    "\n",
    "Используя функцию train_test_split из библиотеки **sklearn.model_selection** разбейте выборку на train и test в соотношении 4 к 1 соответственно (20% уходит в тестовую выборку). Зафиксируйте параметр __random_state__ в значении 42."
   ]
  },
  {
   "cell_type": "code",
   "execution_count": 16,
   "metadata": {},
   "outputs": [],
   "source": [
    "# ваш импорт здесь\n",
    "\n",
    "X_train, X_test, y_train, y_test = # ваш код здесь"
   ]
  },
  {
   "cell_type": "code",
   "execution_count": 17,
   "metadata": {},
   "outputs": [],
   "source": [
    "# если все правильно, то эта ячейка не выдаст ошибку\n",
    "assert len(X_train) == 120 and len(X_test) == 30"
   ]
  },
  {
   "cell_type": "markdown",
   "metadata": {},
   "source": [
    "## Простая реализация kNN\n",
    "Теперь, имея обучающую выборку, можно реализовать и сам алгоритм классификации. В качестве метрики расстояния от искомой точки до ближайщих соседей будем использовать `евклидово расстояние`. Для определения расстояния между объектами можно использовать не только евклидово расстояние: также применяются манхэттенское расстояние, косинусная мера, критерий корреляции Пирсона и др.\n",
    "\n",
    "![](https://upload.wikimedia.org/wikipedia/commons/thumb/5/55/Euclidean_distance_2d.svg/220px-Euclidean_distance_2d.svg.png)"
   ]
  },
  {
   "cell_type": "markdown",
   "metadata": {},
   "source": [
    "### Задание 4 (0.5 балла)\n",
    "\n",
    "Реализуйте функцию `dist` ниже, вычисляющую евклидово расстояние между парой точек на плоскости. `a` и `b` -- кординаты точек (для каждой точки мы знаем координату x и координату y). В формуле выше дан квадрат евклидова расстояния, нам нужно найти корень из него.\n",
    "\n",
    "В этом и следующем задании нельзя использовать готовые функции, нужно писать собственные."
   ]
  },
  {
   "cell_type": "code",
   "execution_count": 2,
   "metadata": {},
   "outputs": [],
   "source": [
    "def dist(a, b):\n",
    "    # вычислите дистанцию по формуле\n",
    "    return # верните результат"
   ]
  },
  {
   "cell_type": "markdown",
   "metadata": {},
   "source": [
    "Если ваша фукнция корректна, то ячейка ниже не выдаст ошибку."
   ]
  },
  {
   "cell_type": "code",
   "execution_count": 19,
   "metadata": {},
   "outputs": [],
   "source": [
    "from scipy.spatial.distance import euclidean\n",
    "\n",
    "assert dist([10,5], [20,5]) == euclidean([10,5], [20,5])\n",
    "assert dist([4.6, 3.6], [5.7, 4.4]) == euclidean([4.6, 3.6], [5.7, 4.4])"
   ]
  },
  {
   "cell_type": "markdown",
   "metadata": {},
   "source": [
    "### Задание 5 (1 балл)\n",
    "\n",
    "Напишите функцию `fit()`, которая находит расстояние от точки point до всех точек в тренировочном датасете.\n",
    "\n",
    "* Функция должна принимать два аргумента -- список координат x и y для точки `new_object` и тренировочную выборку -- список всех точек, для которых известны классы.\n",
    "* Функция должна возвращать список кортежей -- в каждом кортеже два числа: расстояние от `new_object` до точки под индексом `i` из тренировочной выборки; индекс `i`.\n",
    "* Для нахождения расстояния используйте функцию `dist`, определенную выше.\n",
    "* Список кортежей, который возвращает функция, должен быть отсортирован по расстоянию (от ближайшей до самой дальней точки).\n",
    "\n",
    "\n"
   ]
  },
  {
   "cell_type": "code",
   "execution_count": 20,
   "metadata": {},
   "outputs": [],
   "source": [
    "def fit(new_object, X_train):\n",
    "    # создайте пустой список distances\n",
    "    # заполните список кортежами вида (расстояние, индекс i),\n",
    "    # где расстояние - расстояние от точки new_object до точки X_train под индексом i,\n",
    "    # которое находит ваша функция dist(), определенная выше\n",
    "    \n",
    "    return # верните отсортированный по расстояниям список кортежей"
   ]
  },
  {
   "cell_type": "markdown",
   "metadata": {},
   "source": [
    "Если ваша фукнция корректна, то ячейка ниже не выдаст ошибку."
   ]
  },
  {
   "cell_type": "code",
   "execution_count": 21,
   "metadata": {},
   "outputs": [],
   "source": [
    "X_to_check = np.array([[4.6, 3.6], [5.7, 4.4],\n",
    "                       [6.7, 3.1], [4.8, 3.4], [4.4, 3.2]])\n",
    "\n",
    "\n",
    "assert fit([7.6, 6.6], X_to_check) == [(2.906888370749726, 1), (3.61386219991853, 2), \n",
    "                                (4.242640687119285, 0), (4.252058325093859, 3), \n",
    "                                (4.6690470119715, 4)]"
   ]
  },
  {
   "cell_type": "markdown",
   "metadata": {},
   "source": [
    "### Задание 6 (1 балл)\n",
    "Определите функцию predict(), которая принимает четыре аргумента -- координаты точки new_оbject, массив всех точек тренировочной выборки, для которых известны классы X_train, массив классов точек тренировочной выборки y_train, k - количество соседей.\n",
    "\n",
    "Функция predict() работает следующим образом:\n",
    "\n",
    "* в переменную `distances_fitted` сохраняются отсортированные расстояния от точки new_object до всех точек в тренировочной выборке, найденные с помощью функции fit()\n",
    "* в переменную `k_neighbors` добавляется список из k ближайших соседей из списка `distances_fitted`\n",
    "* создается пустой словарь `targets`, в котором будут хранится метки\n",
    "* в словарь `targets` из списка `k_neighbors` добавляются метки классов и подсчитываются\n",
    "* функция возвращает самую частотную метку классов среди соседей (например, iris-setosa)."
   ]
  },
  {
   "cell_type": "code",
   "execution_count": 22,
   "metadata": {},
   "outputs": [],
   "source": [
    "def predict(new_object, X_train, y_train, k):\n",
    "    distances_fitted = # с помощью функции fit предскажите расстояния для новой точки\n",
    "    \n",
    "    k_neighbors = # сохраните k ближайших соседей в переменную\n",
    "    \n",
    "    targets = {}\n",
    "    \n",
    "    # для каждого соседа из k_neigbors по его индексу \n",
    "    # найдите его метку в переменной y_train и сохраните ее в переменной label\n",
    "    # словарь targets должен содержать подсчет лэйблов для k соседей\n",
    "            \n",
    "    return max(targets, key=targets.get) # возвращаем класс с максимальной частотой"
   ]
  },
  {
   "cell_type": "code",
   "execution_count": 23,
   "metadata": {},
   "outputs": [],
   "source": [
    "X_to_check = np.array([[4.6, 3.6], [5.7, 4.4],\n",
    "                       [6.7, 3.1], [4.8, 3.4], [4.4, 3.2]])\n",
    "\n",
    "y_to_check = np.array(['Iris-versicolor', 'Iris-versicolor', 'Iris-versicolor', \n",
    "                       'Iris-setosa', 'Iris-setosa'])\n",
    "\n",
    "assert predict([7.6, 6.6], X_to_check, y_to_check, 5) == 'Iris-versicolor'"
   ]
  },
  {
   "cell_type": "markdown",
   "metadata": {},
   "source": [
    "### Задание 7 (1 балла)\n",
    "\n",
    "Сделайте предсказание с использованием функции выше для всех точек из тестового множества `X_test` и параметром `k` равным 7"
   ]
  },
  {
   "cell_type": "code",
   "execution_count": 54,
   "metadata": {},
   "outputs": [],
   "source": [
    "# Создадим пустой список с будущими предсказаниями\n",
    "predictions = # ваш код здесь \n",
    "# задайте k соседей\n",
    "\n",
    "# запишите предсказания в список predictions, применив функцию predict ко всем точкам в X_test"
   ]
  },
  {
   "cell_type": "markdown",
   "metadata": {},
   "source": [
    "Напечатайте в цикле, сколько раз каждая метка встретилась в ваших предсказаниях."
   ]
  },
  {
   "cell_type": "code",
   "execution_count": 6,
   "metadata": {},
   "outputs": [],
   "source": [
    "# ваш код здесь\n"
   ]
  },
  {
   "cell_type": "markdown",
   "metadata": {},
   "source": [
    "Напечатайте в цикле, сколько раз каждая метка встретилась в ответах для тестовой выборки `y_test`."
   ]
  },
  {
   "cell_type": "code",
   "execution_count": 2,
   "metadata": {},
   "outputs": [],
   "source": [
    "# ваш код здесь\n"
   ]
  },
  {
   "cell_type": "markdown",
   "metadata": {},
   "source": [
    "Напишите вывод, какие ирисы перепутала ваша функция.\n",
    "\n",
    "Вывод:"
   ]
  },
  {
   "cell_type": "markdown",
   "metadata": {},
   "source": [
    "### Задание 8 (1 балл)\n",
    "\n",
    "Реализуйте функцию `my_accuracy`, которая принимает два аргумента -- вектор с предсказаниями и вектор с ответами для тестовой выборке и возвращает действительное число -- долю верных ответов нашей модели на тестовой выборке.\n",
    "\n",
    "Посчитайте вашей функцией долю правильных ответов для `predictions` и `y_test`."
   ]
  },
  {
   "cell_type": "code",
   "execution_count": 8,
   "metadata": {},
   "outputs": [],
   "source": [
    "def my_accuracy(predictions, y_test):\n",
    "    # ваш код здесь\n",
    "    return # верните значение без округления\n",
    "\n"
   ]
  },
  {
   "cell_type": "markdown",
   "metadata": {},
   "source": [
    "Используя библиотеку __sklearn.metrics__ и функцию `accuracy_score` проверьте корректность работы вашей функции для `predictions` и `y_test`."
   ]
  },
  {
   "cell_type": "code",
   "execution_count": 9,
   "metadata": {},
   "outputs": [],
   "source": [
    "# ваш код здесь"
   ]
  },
  {
   "cell_type": "markdown",
   "metadata": {},
   "source": [
    "### Задание 9 - 0.5 балла\n",
    "\n",
    "Попробуйте предсказывать классы с использованием различного параметра `k` в интервале от 1 до 15.  Напечатйте в цикле на одной строке значение метрики `accuracy_score` из `sklearn` и `k` соседей. \n",
    "\n",
    "При каких значениях достигается оптимальное качество?"
   ]
  },
  {
   "cell_type": "code",
   "execution_count": 12,
   "metadata": {},
   "outputs": [],
   "source": [
    "# ваш код здесь"
   ]
  },
  {
   "cell_type": "markdown",
   "metadata": {},
   "source": [
    "*Место для вашего ответа:*"
   ]
  },
  {
   "cell_type": "markdown",
   "metadata": {},
   "source": [
    "*Работаем с новыми y - `y_train_setosa` и `y_test_setosa` c этого задания и ниже!*\n",
    "### Задание 10 (2.5 балла)\n",
    "\n",
    "Давайте немного изменим задание. Давайте представим, что нас теперь интересует только класс ирисов setosa. Создайте переменные `y_train_setosa` и `y_test_setosa`, где ирисы setosa будут закодированы единицами, а остальные нулями."
   ]
  },
  {
   "cell_type": "code",
   "execution_count": null,
   "metadata": {},
   "outputs": [],
   "source": [
    "### ╰( ͡° ͜ʖ ͡° )つ──☆*:・ﾟ\n",
    "y_train_setosa = # ваш код здесь\n",
    "y_test_setosa =  # ваш код здесь"
   ]
  },
  {
   "cell_type": "markdown",
   "metadata": {},
   "source": [
    "\n",
    "**1 балл (каждая функция - 0.5 балла)**  \n",
    "В качестве метрики качества самостоятельно реализуйте функции, считающие метрики `my_precision()` и `my_recall`. Функции также должны принимать два аргумента (предсказания и ответы для тестовой выборки) и возвращать действительное число.\n",
    "\n",
    "![](https://miro.medium.com/max/1068/1*EXa-_699fntpUoRjZeqAFQ.jpeg)\n",
    "\n"
   ]
  },
  {
   "cell_type": "code",
   "execution_count": 18,
   "metadata": {},
   "outputs": [],
   "source": [
    "# ваш код здесь"
   ]
  },
  {
   "cell_type": "markdown",
   "metadata": {},
   "source": [
    "**1 балл**  \n",
    "Снова предскажите виды ирисов на тестовой выборке, но теперь с y_train_setosa и y_test_setosa при разных параметрах `k` в интервале от 1 до 15, измерьте три метрики ошибки, которые вы реализовали и сохраните себе четыре списка (или вектора, или датафрейм, или словарь -- вобщем, как вам удобно: `k_list` (значение k соседей), `acc_list` (доля правильных ответов для каждого k соседей), `p_list` (точность для каждого k соседей)  и `r_list` (полнота для каждого количества соседей)). Все метрики считаются вашими функциями, не импортированными!"
   ]
  },
  {
   "cell_type": "code",
   "execution_count": 16,
   "metadata": {},
   "outputs": [],
   "source": [
    "# ваш код здесь"
   ]
  },
  {
   "cell_type": "markdown",
   "metadata": {},
   "source": [
    "**0.5 балла**  \n",
    "Нарисуйте линейный график зависимости трех метрик от k-соседей (три линии на одном графики). Кратко опишите тренды."
   ]
  },
  {
   "cell_type": "code",
   "execution_count": 58,
   "metadata": {},
   "outputs": [],
   "source": [
    "###"
   ]
  },
  {
   "cell_type": "markdown",
   "metadata": {},
   "source": [
    "### Задание 11 (1 балл)\n",
    "\n",
    "Реализуйте самостоятельно функцию, вычисляющую метрику `my_f_score` (см. формулу выше). Снова предскажите виды ирисов на тестовой выборке, но теперь с y_train_setosa и y_test_setosa при разных параметрах k в интервале от 1 до 15. При каком значении параметра `k` достигается лучшее значение данной метрики?"
   ]
  },
  {
   "cell_type": "code",
   "execution_count": null,
   "metadata": {},
   "outputs": [],
   "source": [
    "### ╰( ͡° ͜ʖ ͡° )つ──☆*:・ﾟ"
   ]
  },
  {
   "cell_type": "markdown",
   "metadata": {},
   "source": [
    "### Дополнительное задание (3 балла)\n",
    "\n",
    "Реализуйте новую функцию расстояния на выбор **(каждая 0.5 балла)**.\n",
    "- $dist(x1,y1, x2,y2) = |x1-x2| + |y1-y2|$\n",
    "- $dist(x1,y1, x2,y2) = max(|x1-x2|, |y1-y2|)$\n",
    "\n",
    "**2 балла (1 балл для каждой новой функции)**\n",
    "\n",
    "Постройте график зависимости качества модели в терминах доли правильных ответов (accuracy) и f-меры (f-score) в зависимости от параметра `k` модели в интервале от 1 до 15. \n",
    "\n",
    "Не забудьте переопределить функцию fit() с новой функцией расстояния.\n",
    "\n",
    "Напишите вывод с какой мерой дистанции и с каким количеством соседей наш алгоритм лучше всего предсказывает класс ирисов."
   ]
  },
  {
   "cell_type": "code",
   "execution_count": null,
   "metadata": {},
   "outputs": [],
   "source": [
    "### ╰( ͡° ͜ʖ ͡° )つ──☆*:・ﾟ"
   ]
  }
 ],
 "metadata": {
  "kernelspec": {
   "display_name": "Python 3",
   "language": "python",
   "name": "python3"
  },
  "language_info": {
   "codemirror_mode": {
    "name": "ipython",
    "version": 3
   },
   "file_extension": ".py",
   "mimetype": "text/x-python",
   "name": "python",
   "nbconvert_exporter": "python",
   "pygments_lexer": "ipython3",
   "version": "3.8.5"
  }
 },
 "nbformat": 4,
 "nbformat_minor": 4
}
