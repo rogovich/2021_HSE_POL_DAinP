{
 "cells": [
  {
   "cell_type": "markdown",
   "metadata": {},
   "source": [
    "*Автор: Алла Тамбовцева, НИУ ВШЭ*  \n",
    "\n",
    "## Web-scraping: скрэйпинг новостного сайта"
   ]
  },
  {
   "cell_type": "markdown",
   "metadata": {},
   "source": [
    "Мы уже немного познакомились со структурой html-файлов, теперь попробуем выгрузить информацию из реальной страницы, а точнее, с реального сайта [nplus1.ru](https://nplus1.ru/).\n",
    "\n",
    "**Наша задача:** выгрузить недавние новости в датафрейм `pandas`, чтобы потом сохранить все в csv-файл.\n",
    "\n",
    "Сначала сгрузим весь html-код страницы и сохраним его в отдельную переменную. Для этого нам понадобится библиотека `requests`. Импортируем её:"
   ]
  },
  {
   "cell_type": "code",
   "execution_count": 1,
   "metadata": {},
   "outputs": [],
   "source": [
    "import requests"
   ]
  },
  {
   "cell_type": "markdown",
   "metadata": {},
   "source": [
    "Сохраним ссылку на главную страницу сайта в переменную `url` для удобства и выгрузим страницу. (Разумеется, это будет работать при подключении к интернету. Если соединение будет отключено, Python выдаст `NewConnectionError`)."
   ]
  },
  {
   "cell_type": "code",
   "execution_count": 2,
   "metadata": {},
   "outputs": [],
   "source": [
    "url = 'https://nplus1.ru/' # сохраняем\n",
    "page = requests.get(url) # загружаем страницу по ссылке"
   ]
  },
  {
   "cell_type": "markdown",
   "metadata": {},
   "source": [
    "Если мы просто посмотрим на объект, мы ничего особенного не увидим:"
   ]
  },
  {
   "cell_type": "code",
   "execution_count": 3,
   "metadata": {},
   "outputs": [
    {
     "data": {
      "text/plain": [
       "<Response [200]>"
      ]
     },
     "execution_count": 3,
     "metadata": {},
     "output_type": "execute_result"
    }
   ],
   "source": [
    "page  # response 200 - страница загружена"
   ]
  },
  {
   "cell_type": "markdown",
   "metadata": {},
   "source": [
    "Импортируем функцию `BeautifulSoup` из библиотеки `bs4` (от *beautifulsoup4*) и заберём со страницы `page` код html в виде текста. "
   ]
  },
  {
   "cell_type": "code",
   "execution_count": 4,
   "metadata": {},
   "outputs": [],
   "source": [
    "from bs4 import BeautifulSoup  # не спрашивайте, почему BeautifulSoup"
   ]
  },
  {
   "cell_type": "code",
   "execution_count": 5,
   "metadata": {},
   "outputs": [],
   "source": [
    "soup = BeautifulSoup(page.text, 'lxml')"
   ]
  },
  {
   "cell_type": "markdown",
   "metadata": {},
   "source": [
    "Если выведем `soup` на экран, мы увидим то же самое, что в режиме разработчика или в режиме происмотра исходного кода (`view-source` через *Ctrl+U* в Google Chrome)."
   ]
  },
  {
   "cell_type": "code",
   "execution_count": 6,
   "metadata": {},
   "outputs": [],
   "source": [
    "# soup"
   ]
  },
  {
   "cell_type": "markdown",
   "metadata": {},
   "source": [
    "Для просмотра выглядит не очень удобно.  «Причешем» наш `soup` – воспользуемся методом `.prettify()` в сочетании с функцией `print()`."
   ]
  },
  {
   "cell_type": "code",
   "execution_count": 7,
   "metadata": {},
   "outputs": [],
   "source": [
    "# print(soup.prettify())"
   ]
  },
  {
   "cell_type": "markdown",
   "metadata": {},
   "source": [
    "В такой выдаче ориентироваться гораздо удобнее (но при желании, то же можно увидеть в браузере, на большом экране)."
   ]
  },
  {
   "cell_type": "markdown",
   "metadata": {},
   "source": [
    "Чтобы сгрузить все новости с главной страницы сайта, нужно собрать все ссылки на страницы с этими новостями. Ссылки в html-файле всегда заключены в тэг `<a></a>` и имеют атрибут `href`. Посмотрим на кусочки кода, соответствующие всем ссылкам на главной странице сайта:"
   ]
  },
  {
   "cell_type": "code",
   "execution_count": 8,
   "metadata": {},
   "outputs": [
    {
     "name": "stdout",
     "output_type": "stream",
     "text": [
      "#\n",
      "/\n",
      "#\n",
      "#\n",
      "/rubric/astronomy\n",
      "/rubric/physics\n",
      "/rubric/biology\n",
      "/rubric/robots-drones\n",
      "/theme/explainatorium\n",
      "/theme/bookshelf\n",
      "/theme/Courses\n",
      "/theme/coronavirus-history\n",
      "/theme/offline\n",
      "/\n",
      "#\n",
      "/rubric/astronomy\n",
      "/rubric/physics\n",
      "/rubric/biology\n",
      "/rubric/robots-drones\n",
      "#\n",
      "/theme/explainatorium\n",
      "/theme/bookshelf\n",
      "/theme/Courses\n",
      "/theme/coronavirus-history\n",
      "/theme/offline\n",
      "https://nplus1.ru/blog/2021/05/13/not-a-soldier\n",
      "https://nplus1.ru/blog/2021/05/13/not-a-soldier\n",
      "https://nplus1.ru/blog/2021/05/12/russian-horseman\n",
      "https://nplus1.ru/blog/2021/05/11/controllability-of-ionization-energy\n",
      "https://nplus1.ru/blog/2021/05/06/russian-sexual-culture\n",
      "https://nplus1.ru/blog/2021/04/30/anvisa-vs-sputnikv\n",
      "https://nplus1.ru/blog/2021/04/30/storm-in-a-teacup\n",
      "https://nplus1.ru/blog/2021/04/27/ludvig-nobel-och-hans-verk\n",
      "https://nplus1.ru/blog/2021/04/23/russia-on-the-danube\n",
      "https://nplus1.ru/blog/2021/04/23/waterquality\n",
      "https://nplus1.ru/blog/2021/05/14/chnpp-neutron-stream\n",
      "/news/2021/05/17/upupa-epops\n",
      "/news/2021/05/17/hunting-herding-kenia\n",
      "/news/2021/05/17/microbiome-health\n",
      "/news/2021/05/17/thrombosis-hands-covid\n",
      "/news/2021/05/17/traffic-noise-disrupts-song-learning\n",
      "/news/2021/05/17/artificial-insemination-in-sharks\n",
      "/news/2021/05/17/Maagan-Mikhael-B-ship\n",
      "/material/2021/05/14/draw-me-a-dino\n",
      "/rubric/paleontology\n",
      "/theme/bellezza\n",
      "/news/2021/05/17/heart-structure-cognitive\n",
      "/news/2021/05/17/inca-sacrifices\n",
      "/news/2021/05/17/Lalibelachurches\n",
      "/news/2021/05/17/thermodynamic-cost\n",
      "/news/2021/05/15/hydromea\n",
      "/news/2021/05/15/tablet\n",
      "/blog/2021/05/14/chnpp-neutron-stream\n",
      "/blog/2021/05/13/not-a-soldier\n",
      "/material/2021/05/12/covid-drugs\n",
      "/rubric/biology\n",
      "/theme/coronavirus-history\n",
      "/news/2021/05/07/silly-walks\n",
      "/rubric/zoology\n",
      "/news/2021/05/15/isaac\n",
      "/news/2021/05/15/electron\n",
      "/news/2021/05/15/xa100\n",
      "/news/2021/05/15/dinosaurs-irregular-growth\n",
      "/news/2021/05/15/proton-mass-radius\n",
      "/news/2021/05/15/churong-landing\n",
      "/blog/2021/05/12/russian-horseman\n",
      "/blog/2021/05/11/controllability-of-ionization-energy\n",
      "/material/2021/04/30/out-climate-cast\n",
      "/rubric/ecology\n",
      "/theme/spcweather\n",
      "/material/2021/04/29/covid-human-challenge\n",
      "/rubric/biology\n",
      "/theme/coronavirus-history\n",
      "/news/2021/05/15/proton-mass-radius\n",
      "/blog/2021/05/11/controllability-of-ionization-energy\n",
      "/news/2021/05/13/z-genome\n",
      "/news/2021/05/12/pb-neutron-skin\n",
      "/news/2021/05/14/5qubits-simulates-photon-transport\n",
      "/blog/2021/05/14/chnpp-neutron-stream\n",
      "/news/2021/05/12/antibacterial-microneedles\n",
      "/news/2021/05/12/fight-bacterial-resistance\n",
      "/news/2021/05/15/dinosaurs-irregular-growth\n",
      "/news/2021/05/14/gene-therapy-for-ADA-deficiency\n",
      "https://nplus1.ru/blog/2021/05/13/not-a-soldier\n",
      "https://nplus1.ru/blog/2021/05/13/not-a-soldier\n",
      "https://nplus1.ru/blog/2021/05/12/russian-horseman\n",
      "https://nplus1.ru/blog/2021/05/11/controllability-of-ionization-energy\n",
      "https://nplus1.ru/blog/2021/05/06/russian-sexual-culture\n",
      "https://nplus1.ru/blog/2021/04/30/anvisa-vs-sputnikv\n",
      "https://nplus1.ru/blog/2021/04/30/storm-in-a-teacup\n",
      "https://nplus1.ru/blog/2021/04/27/ludvig-nobel-och-hans-verk\n",
      "https://nplus1.ru/blog/2021/04/23/russia-on-the-danube\n",
      "https://nplus1.ru/blog/2021/04/23/waterquality\n",
      "https://nplus1.ru/blog/2021/05/14/chnpp-neutron-stream\n",
      "/\n",
      "/about\n",
      "https://nplus.pro\n",
      "/adv\n",
      "/rules\n",
      "/vacancy\n",
      "/difficult\n",
      "https://nplus1.ru/personal-data-policy\n",
      "#\n",
      "https://t.me/nplusone\n",
      "http://vk.com/nplusone\n",
      "https://www.facebook.com/nplusone\n",
      "https://twitter.com/nplusodin\n",
      "https://ok.ru/nplus1\n",
      "https://soundcloud.com/nplus_1\n",
      "/rss\n"
     ]
    }
   ],
   "source": [
    "for link in soup.find_all('a'):\n",
    "    print(link.get('href'))"
   ]
  },
  {
   "cell_type": "markdown",
   "metadata": {},
   "source": [
    "Ссылок много. Но нам нужны только новости – ссылки, которые начинаются со слова `/news`. Добавим условие: будем выбирать только те ссылки, в которых есть `/news`. Создадим пустой список `urls` и будем добавлять в него только ссылки, которые удовлетворяют этому условию."
   ]
  },
  {
   "cell_type": "code",
   "execution_count": 9,
   "metadata": {},
   "outputs": [
    {
     "data": {
      "text/plain": [
       "['/news/2021/05/17/upupa-epops',\n",
       " '/news/2021/05/17/hunting-herding-kenia',\n",
       " '/news/2021/05/17/microbiome-health',\n",
       " '/news/2021/05/17/thrombosis-hands-covid',\n",
       " '/news/2021/05/17/traffic-noise-disrupts-song-learning',\n",
       " '/news/2021/05/17/artificial-insemination-in-sharks',\n",
       " '/news/2021/05/17/Maagan-Mikhael-B-ship',\n",
       " '/news/2021/05/17/heart-structure-cognitive',\n",
       " '/news/2021/05/17/inca-sacrifices',\n",
       " '/news/2021/05/17/Lalibelachurches',\n",
       " '/news/2021/05/17/thermodynamic-cost',\n",
       " '/news/2021/05/15/hydromea',\n",
       " '/news/2021/05/15/tablet',\n",
       " '/news/2021/05/07/silly-walks',\n",
       " '/news/2021/05/15/isaac',\n",
       " '/news/2021/05/15/electron',\n",
       " '/news/2021/05/15/xa100',\n",
       " '/news/2021/05/15/dinosaurs-irregular-growth',\n",
       " '/news/2021/05/15/proton-mass-radius',\n",
       " '/news/2021/05/15/churong-landing',\n",
       " '/news/2021/05/15/proton-mass-radius',\n",
       " '/news/2021/05/13/z-genome',\n",
       " '/news/2021/05/12/pb-neutron-skin',\n",
       " '/news/2021/05/14/5qubits-simulates-photon-transport',\n",
       " '/news/2021/05/12/antibacterial-microneedles',\n",
       " '/news/2021/05/12/fight-bacterial-resistance',\n",
       " '/news/2021/05/15/dinosaurs-irregular-growth',\n",
       " '/news/2021/05/14/gene-therapy-for-ADA-deficiency']"
      ]
     },
     "execution_count": 9,
     "metadata": {},
     "output_type": "execute_result"
    }
   ],
   "source": [
    "urls = []\n",
    "\n",
    "for link in soup.find_all('a'):\n",
    "    if '/news' in link.get('href'):\n",
    "        urls.append(link.get('href'))\n",
    "urls"
   ]
  },
  {
   "cell_type": "markdown",
   "metadata": {},
   "source": [
    "Ссылки, которые у нас есть в списке `urls`, относительные: они неполные, начало ссылки (название сайта) отсутствует. Давайте превратим их в абсолютные ‒ склеим с ссылкой https://nplus1.ru."
   ]
  },
  {
   "cell_type": "code",
   "execution_count": 10,
   "metadata": {},
   "outputs": [
    {
     "data": {
      "text/plain": [
       "['https://nplus1.ru/news/2021/05/17/upupa-epops',\n",
       " 'https://nplus1.ru/news/2021/05/17/hunting-herding-kenia',\n",
       " 'https://nplus1.ru/news/2021/05/17/microbiome-health',\n",
       " 'https://nplus1.ru/news/2021/05/17/thrombosis-hands-covid',\n",
       " 'https://nplus1.ru/news/2021/05/17/traffic-noise-disrupts-song-learning',\n",
       " 'https://nplus1.ru/news/2021/05/17/artificial-insemination-in-sharks',\n",
       " 'https://nplus1.ru/news/2021/05/17/Maagan-Mikhael-B-ship',\n",
       " 'https://nplus1.ru/news/2021/05/17/heart-structure-cognitive',\n",
       " 'https://nplus1.ru/news/2021/05/17/inca-sacrifices',\n",
       " 'https://nplus1.ru/news/2021/05/17/Lalibelachurches',\n",
       " 'https://nplus1.ru/news/2021/05/17/thermodynamic-cost',\n",
       " 'https://nplus1.ru/news/2021/05/15/hydromea',\n",
       " 'https://nplus1.ru/news/2021/05/15/tablet',\n",
       " 'https://nplus1.ru/news/2021/05/07/silly-walks',\n",
       " 'https://nplus1.ru/news/2021/05/15/isaac',\n",
       " 'https://nplus1.ru/news/2021/05/15/electron',\n",
       " 'https://nplus1.ru/news/2021/05/15/xa100',\n",
       " 'https://nplus1.ru/news/2021/05/15/dinosaurs-irregular-growth',\n",
       " 'https://nplus1.ru/news/2021/05/15/proton-mass-radius',\n",
       " 'https://nplus1.ru/news/2021/05/15/churong-landing',\n",
       " 'https://nplus1.ru/news/2021/05/15/proton-mass-radius',\n",
       " 'https://nplus1.ru/news/2021/05/13/z-genome',\n",
       " 'https://nplus1.ru/news/2021/05/12/pb-neutron-skin',\n",
       " 'https://nplus1.ru/news/2021/05/14/5qubits-simulates-photon-transport',\n",
       " 'https://nplus1.ru/news/2021/05/12/antibacterial-microneedles',\n",
       " 'https://nplus1.ru/news/2021/05/12/fight-bacterial-resistance',\n",
       " 'https://nplus1.ru/news/2021/05/15/dinosaurs-irregular-growth',\n",
       " 'https://nplus1.ru/news/2021/05/14/gene-therapy-for-ADA-deficiency']"
      ]
     },
     "execution_count": 10,
     "metadata": {},
     "output_type": "execute_result"
    }
   ],
   "source": [
    "full_urls = []\n",
    "\n",
    "for u in urls:\n",
    "    res = 'https://nplus1.ru' + u\n",
    "    full_urls.append(res) \n",
    "\n",
    "full_urls"
   ]
  },
  {
   "cell_type": "markdown",
   "metadata": {},
   "source": [
    "Теперь наша задача сводится к следующему: изучить одну страницу с новостью, научиться из нее вытаскивать текст и всю необходимую информацию, а потом применить весь набор действий к каждой ссылке из `full_urls` в цикле. Посмотрим на новость с индексом 1, у вас может быть другая, новости обновляются."
   ]
  },
  {
   "cell_type": "code",
   "execution_count": 11,
   "metadata": {},
   "outputs": [],
   "source": [
    "url0 = full_urls[1]\n",
    "\n",
    "page0 = requests.get(url0)\n",
    "soup0 = BeautifulSoup(page0.text, 'lxml')"
   ]
  },
  {
   "cell_type": "markdown",
   "metadata": {},
   "source": [
    "В коде каждой страницы с новостью есть часть с мета-информацией: датой, именем автора и проч. Такая информация окружена тэгом `<meta></meta>`. Посмотрим:"
   ]
  },
  {
   "cell_type": "code",
   "execution_count": 12,
   "metadata": {},
   "outputs": [
    {
     "data": {
      "text/plain": [
       "[<meta charset=\"utf-8\"/>,\n",
       " <meta content=\"ie=edge\" http-equiv=\"x-ua-compatible\"/>,\n",
       " <meta content=\"width=device-width, initial-scale=1\" name=\"viewport\"/>,\n",
       " <meta content=\"yes\" name=\"apple-mobile-web-app-capable\"/>,\n",
       " <meta content=\"black\" name=\"apple-mobile-web-app-status-bar-style\"/>,\n",
       " <meta content=\"7991d7eb02d759f05b9050e111a7e3eb\" name=\"wmail-verification\"/>,\n",
       " <meta content=\"2021-05-17\" itemprop=\"datePublished\"/>,\n",
       " <meta content=\"Михаил Подрезов\" name=\"mediator_author\"/>,\n",
       " <meta content=\"Первые козы и крупно рогатый скот появились в результате обмена около 1180–960 годов до нашей эры\" name=\"description\"/>,\n",
       " <meta content=\"Михаил Подрезов\" name=\"author\"/>,\n",
       " <meta content=\"\" name=\"copyright\"/>,\n",
       " <meta content=\"Древние охотники с кенийского побережья выменяли скот у соседей\" property=\"og:title\"/>,\n",
       " <meta content=\"https://nplus1.ru/images/2021/05/17/52df146f53204cb56116c8b2f1b6b3ee.jpg\" property=\"og:image\"/>,\n",
       " <meta content=\"https://nplus1.ru/news/2021/05/17/hunting-herding-kenia\" property=\"og:url\"/>,\n",
       " <meta content=\"Первые козы и крупно рогатый скот появились в результате обмена около 1180–960 годов до нашей эры\" property=\"og:description\"/>,\n",
       " <meta content=\"summary_large_image\" name=\"twitter:card\"/>,\n",
       " <meta content=\"@nplusodin\" name=\"twitter:site\"/>,\n",
       " <meta content=\"Древние охотники с кенийского побережья выменяли скот у соседей\" name=\"twitter:title\"/>,\n",
       " <meta content=\"Первые козы и крупно рогатый скот появились в результате обмена около 1180–960 годов до нашей эры\" name=\"twitter:description\"/>,\n",
       " <meta content=\"https://nplus1.ru/images/2021/05/17/52df146f53204cb56116c8b2f1b6b3ee.jpg\" name=\"twitter:image\"/>,\n",
       " <meta content=\"8c90b02c84ac3b72\" name=\"yandex-verification\"/>]"
      ]
     },
     "execution_count": 12,
     "metadata": {},
     "output_type": "execute_result"
    }
   ],
   "source": [
    "soup0.find_all('meta')"
   ]
  },
  {
   "cell_type": "markdown",
   "metadata": {},
   "source": [
    "Из этого списка нам нужны части с именем автора, датой, заголовком и кратким описанием. Воспользуемся поиском по атрибуту `name`. Передадим функции `find_all()` в качестве аргумента словарь с названием и значением атрибута: "
   ]
  },
  {
   "cell_type": "code",
   "execution_count": 13,
   "metadata": {},
   "outputs": [
    {
     "data": {
      "text/plain": [
       "[<meta content=\"Михаил Подрезов\" name=\"author\"/>]"
      ]
     },
     "execution_count": 13,
     "metadata": {},
     "output_type": "execute_result"
    }
   ],
   "source": [
    "soup0.find_all('meta', {'name' : 'author'}) # например, автор"
   ]
  },
  {
   "cell_type": "markdown",
   "metadata": {},
   "source": [
    "Теперь выберем единственный элемент полученного списка (с индексом 0):"
   ]
  },
  {
   "cell_type": "code",
   "execution_count": 14,
   "metadata": {},
   "outputs": [
    {
     "data": {
      "text/plain": [
       "<meta content=\"Михаил Подрезов\" name=\"author\"/>"
      ]
     },
     "execution_count": 14,
     "metadata": {},
     "output_type": "execute_result"
    }
   ],
   "source": [
    "soup0.find_all('meta', {'name' : 'author'})[0]"
   ]
  },
  {
   "cell_type": "markdown",
   "metadata": {},
   "source": [
    "Нам нужно вытащить из этого объекта `content` – имя автора. Посмотрим на атрибуты:"
   ]
  },
  {
   "cell_type": "code",
   "execution_count": 15,
   "metadata": {},
   "outputs": [
    {
     "data": {
      "text/plain": [
       "{'name': 'author', 'content': 'Михаил Подрезов'}"
      ]
     },
     "execution_count": 15,
     "metadata": {},
     "output_type": "execute_result"
    }
   ],
   "source": [
    "soup0.find_all('meta', {'name' : 'author'})[0].attrs"
   ]
  },
  {
   "cell_type": "markdown",
   "metadata": {},
   "source": [
    "Как получить отсюда `content`? Очень просто, ведь это словарь! А доставать из словаря значение по ключу мы умеем."
   ]
  },
  {
   "cell_type": "code",
   "execution_count": 16,
   "metadata": {},
   "outputs": [
    {
     "data": {
      "text/plain": [
       "'Михаил Подрезов'"
      ]
     },
     "execution_count": 16,
     "metadata": {},
     "output_type": "execute_result"
    }
   ],
   "source": [
    "author = soup0.find_all('meta', {'name' : 'author'})[0].attrs['content']\n",
    "author"
   ]
  },
  {
   "cell_type": "markdown",
   "metadata": {},
   "source": [
    "Аналогичным образом извлечем дату, заголовок и описание."
   ]
  },
  {
   "cell_type": "code",
   "execution_count": 17,
   "metadata": {},
   "outputs": [],
   "source": [
    "date = soup0.find_all('meta', {'itemprop' : 'datePublished'})[0].attrs['content']\n",
    "title = soup0.find_all('meta', {'property' : 'og:title'})[0].attrs['content']\n",
    "description = soup0.find_all('meta', {'name' : 'description'})[0].attrs['content']"
   ]
  },
  {
   "cell_type": "markdown",
   "metadata": {},
   "source": [
    "Осталось вытащить рубрики и сложность текста. Если мы посмотрим на исходный код страницы, мы увидим, что нужная нам информация находится в тэгах `<p></p>`:"
   ]
  },
  {
   "cell_type": "code",
   "execution_count": 18,
   "metadata": {},
   "outputs": [
    {
     "data": {
      "text/plain": [
       "[<p class=\"table\">\n",
       " <a data-rubric=\"archaeology\" href=\"/rubric/archaeology\">Археология</a>\n",
       " <a data-rubric=\"history\" href=\"/rubric/history\">История</a>\n",
       " </p>,\n",
       " <p class=\"table\">\n",
       " <a href=\"/news/2021/05/17\">\n",
       " <time content=\"2021-05-17\" data-unix=\"1621265849\" itemprop=\"datePublished\">\n",
       " <span>18:37</span>\n",
       " <span>17 Май 2021</span>\n",
       " </time>\n",
       " </a>\n",
       " </p>,\n",
       " <p class=\"table\">\n",
       " <a href=\"/difficult/2.7\">\n",
       " <span>Сложность</span>\n",
       " <span class=\"difficult-value\">2.7</span>\n",
       " </a>\n",
       " </p>,\n",
       " <p class=\"title\"></p>,\n",
       " <p class=\"credits\">Wikimedia Commons CC</p>,\n",
       " <p>Археологи обнаружили самый ранний случай присутствия одомашненных коз и крупного рогатого скота на юго-восточном побережье Кении в железном веке. Они установили, что около 1180–960 годов до нашей эры охотники со стоянки Панга-я-Саиди, вероятно, выменивали скот в небольшом количестве у соседних популяций. Статья <a href=\"https://linkinghub.elsevier.com/retrieve/pii/S0305440321000388\" rel=\"nofollow\" target=\"_blank\">опубликована</a> в <i>Journal of Archaeological Science</i>.</p>,\n",
       " <p>Переход человечества от присваивающего хозяйства к производящему, начавшийся примерно 10–12 тысяч лет назад, в некоторых регионах <a href=\"http://www.mathtask.ru/0403-history.php\" rel=\"nofollow\" target=\"_blank\">запоздал</a> на многие тысячи лет, несмотря на подходящие природные условия. Так, в восточной Африке распространение скотоводства ученые <a href=\"https://www-sciencedirect-com.ez.lib.tsu.ru/science/article/pii/S1040618216302890\" rel=\"nofollow\" target=\"_blank\">датируют</a> примерно пятью тысячами лет до нашей эры. В бассейне озера Виктории, то есть на территории современных Танзании, Кении и Уганды, этот тип хозяйства распространился лишь около 3,3 тысячи лет до нашей эры. Однако многие даже соседние регионы продолжали специализироваться лишь на охоте и собирательстве.</p>,\n",
       " <p>Пещерная стоянка Панга-я-Саиди <a href=\"https://en.wikipedia.org/wiki/Panga_ya_Saidi\" rel=\"nofollow\" target=\"_blank\">расположена</a> на тропическом нагорном побережье Кении. С 2010 года здесь ведутся активные археологические исследования главным образом силами Института истории человечества Макса Планка и Национального музея Кении. Пещера богата на находки, древность которых уходит еще в африканский средний каменный век (около 78 тысяч лет назад). 19 археологических слоев позволили ученым детально <a href=\"https://www.sciencedirect.com/science/article/abs/pii/S0047248421000063?via%3Dihub\" rel=\"nofollow\" target=\"_blank\">проследить</a> культурную эволюцию популяций, населявших этот район.<br/></p>,\n",
       " <p>Кортни Калли (Courtney Cully) из Университета Квинсленда совместно с учеными из Австралии, Германии и США исследовала останки одомашненных и диких животных железного века, обнаруженные в пещере Панга-я-Саиди на юго-востоке Кении. Раскопки в пещере дали большое количество сильно фрагментированных костей животных. Из них археологи отобрали 5239 образцов (21,1 килограмма), обнаруженных в 2011 и 2013 годах, для проведения дальнейшего исследования.<br/></p>,\n",
       " <p></p>,\n",
       " <p class=\"title\"></p>,\n",
       " <p class=\"credits\">Courtney Cully et al. / Journal of Archaeological Science, 2021</p>,\n",
       " <p>Масс-спектрометрия подтвердила присутствие в Панга-я-Саиди всех основных одомашненных видов животных семейства полорогих – овец, коз и крупного рогатого скота. Однако эти виды занимали лишь незначительную долю (5,6 процента) в общей массе по сравнению с дикими видами. Радиоуглеродное датирование относит кости одомашненных коз и крупного рогатого скота к 1180–960 годам до нашей эры, в то время как овцы появились значительно позже – около 500–300 годов до нашей эры. Частотность останков привела исследователей к выводу, что одомашненные животные, вероятно, иногда приобретались местными жителями через обмен, а не были частью скотоводческой экономики наряду с давно устоявшейся охотничьей традицией.</p>,\n",
       " <p>Исследователи считают, что в железном веке обитатели Панга-я-Саиди сохраняли зависимость от диких видов, в первую очередь – от дукеров, карликовых антилоп и свиней. Сохранение охоты в железном веке характерно не только для кенийских побережья, но и для всей Рифтовой долины и близлежащего плато Лайкипии. Количественные данные, вероятно, указывают на то, что домашний скот содержался в небольших количествах и был приобретен у соседних скотоводческих популяций. Археологи заключили, что это самый ранний выявленный случай присутствия одомашненной фауны на участке, ранее связанным только с охотой.</p>,\n",
       " <p>Недавно на <i>N + 1</i> мы уже сообщали об удивительной находке в пещере Панга-я-Саиди, где была <a href=\"https://nplus1.ru/news/2021/05/05/human-burial\" target=\"_blank\">обнаружена</a> могила с древнейшим захоронением человека в Африке. Кроме того, находящееся неподалеку сомалийское побережье <a href=\"https://yandex.ru/turbo/nplus1.ru/s/news/2021/05/14/trade-indian-ocean\" rel=\"nofollow\" target=\"_blank\">выступало</a> в роли перевалочного пункта средневековой торговли.</p>,\n",
       " <p><i>Михаил Подрезов</i></p>,\n",
       " <p>Нашли опечатку? Выделите фрагмент и нажмите Ctrl+Enter.</p>,\n",
       " <p class=\"subtitle\">Как менялся облик самых известных динозавров вместе с тем, как ученые продолжали их изучать</p>,\n",
       " <p>Коэффициент сложности</p>,\n",
       " <p>Коэффициент сложности</p>,\n",
       " <p>Коэффициент сложности</p>,\n",
       " <p>Коэффициент сложности</p>,\n",
       " <p>Коэффициент сложности</p>,\n",
       " <p>Коэффициент сложности</p>,\n",
       " <p>Коэффициент сложности</p>,\n",
       " <p>Коэффициент сложности</p>,\n",
       " <p>Коэффициент сложности</p>,\n",
       " <p>Коэффициент сложности</p>,\n",
       " <p>© 2021 <i>N + 1</i> Интернет-издание   Свидетельство о регистрации СМИ Эл № ФС77-67614</p>,\n",
       " <p>Использование всех текстовых материалов без изменений в некоммерческих целях разрешается со ссылкой на <i>N + 1</i>. \n",
       "                         Все аудиовизуальные произведения являются собственностью своих авторов и правообладателей и используются \n",
       "                         только в образовательных и информационных целях. Если вы являетесь собственником того или иного произведения \n",
       "                         и не согласны с его размещением на нашем сайте, пожалуйста, напишите на kirill@nplus1.ru</p>,\n",
       " <p>Материалы, опубликованные в разделе «Блоги», отражают позиции их авторов, которые могут не совпадать с мнением редакции.</p>,\n",
       " <p>Сайт может содержать контент, не предназначенный для лиц младше 18 лет.</p>,\n",
       " <p>\n",
       " <a class=\"pd\" href=\"https://nplus1.ru/personal-data-policy\">Политика обработки персональных данных пользователей сайта</a>\n",
       " </p>,\n",
       " <p>\n",
       " <script async=\"\" src=\"//s.luxupcdnc.com/t/consent_195458.js\" type=\"text/javascript\"></script>\n",
       " <a href=\"#\" onclick=\"if(window.__lxG__consent__ !== undefined) {window.__lxG__consent__.showConsent()} else {alert('This function works only for users from the European Economic Area (EEA).')}; return false\">Change privacy settings</a>\n",
       " </p>,\n",
       " <p>\n",
       " </p>]"
      ]
     },
     "execution_count": 18,
     "metadata": {},
     "output_type": "execute_result"
    }
   ],
   "source": [
    "soup0.find_all('p')"
   ]
  },
  {
   "cell_type": "markdown",
   "metadata": {},
   "source": [
    "Выберем из полученного списка первый элемент и найдем в нем все тэги `<a>`:"
   ]
  },
  {
   "cell_type": "code",
   "execution_count": 19,
   "metadata": {},
   "outputs": [
    {
     "data": {
      "text/plain": [
       "[<a data-rubric=\"archaeology\" href=\"/rubric/archaeology\">Археология</a>,\n",
       " <a data-rubric=\"history\" href=\"/rubric/history\">История</a>]"
      ]
     },
     "execution_count": 19,
     "metadata": {},
     "output_type": "execute_result"
    }
   ],
   "source": [
    "soup0.find_all('p')[0].find_all('a')"
   ]
  },
  {
   "cell_type": "markdown",
   "metadata": {},
   "source": [
    "Получился список из одного элемента. Применим списковые включения – вытащим из каждого элемента (их могло бы быть больше) текст и поместим его в новый список `rubrics`."
   ]
  },
  {
   "cell_type": "code",
   "execution_count": 20,
   "metadata": {},
   "outputs": [
    {
     "data": {
      "text/plain": [
       "['Археология', 'История']"
      ]
     },
     "execution_count": 20,
     "metadata": {},
     "output_type": "execute_result"
    }
   ],
   "source": [
    "rubrics = [r.text for r in soup0.find_all('p')[0].find_all('a')]\n",
    "rubrics"
   ]
  },
  {
   "cell_type": "markdown",
   "metadata": {},
   "source": [
    "Осталась только сложность. Возьмем соответствующий кусок кода:"
   ]
  },
  {
   "cell_type": "code",
   "execution_count": 21,
   "metadata": {},
   "outputs": [
    {
     "data": {
      "text/plain": [
       "[<span class=\"difficult-value\">2.7</span>]"
      ]
     },
     "execution_count": 21,
     "metadata": {},
     "output_type": "execute_result"
    }
   ],
   "source": [
    "soup0.find_all('span', {'class' : 'difficult-value'})"
   ]
  },
  {
   "cell_type": "markdown",
   "metadata": {},
   "source": [
    "И выберем оттуда текст."
   ]
  },
  {
   "cell_type": "code",
   "execution_count": 22,
   "metadata": {},
   "outputs": [
    {
     "data": {
      "text/plain": [
       "'2.7'"
      ]
     },
     "execution_count": 22,
     "metadata": {},
     "output_type": "execute_result"
    }
   ],
   "source": [
    "diff = soup0.find_all('span', {'class' : 'difficult-value'})[0].text\n",
    "diff"
   ]
  },
  {
   "cell_type": "markdown",
   "metadata": {},
   "source": [
    "Теперь перейдем к тексту самой новости. Как можно заметить, текст сохранен в абзацах `<p></p>`, причем безо всяких атрибутов. Сообщим Python, что нас интересуют куски с пустым атрибутом `class`:"
   ]
  },
  {
   "cell_type": "code",
   "execution_count": 23,
   "metadata": {},
   "outputs": [],
   "source": [
    "text_list = soup0.find_all('p', {'class' : None})"
   ]
  },
  {
   "cell_type": "markdown",
   "metadata": {},
   "source": [
    "«Выцепим» все тексты (без тэгов) из полученного списка:"
   ]
  },
  {
   "cell_type": "code",
   "execution_count": 24,
   "metadata": {},
   "outputs": [],
   "source": [
    "text = [t.text for t in text_list]"
   ]
  },
  {
   "cell_type": "markdown",
   "metadata": {},
   "source": [
    "Склеим все элементы списка `text` через пробел:"
   ]
  },
  {
   "cell_type": "code",
   "execution_count": 25,
   "metadata": {},
   "outputs": [
    {
     "data": {
      "text/plain": [
       "'Археологи обнаружили самый ранний случай присутствия одомашненных коз и крупного рогатого скота на юго-восточном побережье Кении в железном веке. Они установили, что около 1180–960 годов до нашей эры охотники со стоянки Панга-я-Саиди, вероятно, выменивали скот в небольшом количестве у соседних популяций. Статья опубликована в Journal of Archaeological Science. Переход человечества от присваивающего хозяйства к производящему, начавшийся примерно 10–12 тысяч лет назад, в некоторых регионах запоздал на многие тысячи лет, несмотря на подходящие природные условия. Так, в восточной Африке распространение скотоводства ученые датируют\\xa0примерно пятью тысячами лет до нашей эры. В бассейне озера Виктории, то есть на территории современных Танзании, Кении и Уганды, этот тип хозяйства распространился лишь около 3,3 тысячи лет до нашей эры. Однако многие даже соседние регионы продолжали специализироваться лишь на охоте и собирательстве. Пещерная стоянка Панга-я-Саиди расположена\\xa0на тропическом нагорном побережье Кении. С 2010 года здесь ведутся активные археологические исследования главным образом силами Института истории человечества Макса Планка и Национального музея Кении. Пещера богата на находки, древность которых уходит еще в африканский средний каменный век (около 78 тысяч лет назад). 19 археологических слоев позволили ученым детально проследить\\xa0культурную эволюцию популяций, населявших этот район. Кортни Калли (Courtney Cully) из Университета Квинсленда совместно с учеными из Австралии, Германии и США исследовала останки одомашненных и диких животных железного века, обнаруженные в пещере Панга-я-Саиди на юго-востоке Кении. Раскопки в пещере дали большое количество сильно фрагментированных костей животных. Из них археологи отобрали 5239 образцов (21,1 килограмма), обнаруженных в 2011 и 2013 годах, для проведения дальнейшего исследования.  Масс-спектрометрия подтвердила присутствие в Панга-я-Саиди всех основных одомашненных видов животных семейства полорогих\\xa0– овец, коз и крупного рогатого скота. Однако эти виды занимали лишь незначительную долю (5,6 процента) в общей массе по сравнению с дикими видами. Радиоуглеродное датирование относит кости одомашненных коз и крупного рогатого скота к 1180–960 годам до нашей эры, в то время как овцы появились значительно позже\\xa0– около 500–300 годов до нашей эры. Частотность останков привела исследователей к выводу, что одомашненные животные, вероятно, иногда приобретались местными жителями через обмен, а не были частью скотоводческой экономики наряду с давно устоявшейся охотничьей традицией. Исследователи считают, что в железном веке обитатели Панга-я-Саиди сохраняли зависимость от диких видов, в первую очередь\\xa0– от дукеров, карликовых антилоп и свиней. Сохранение охоты в железном веке характерно не только для кенийских побережья, но и для всей Рифтовой долины и близлежащего плато Лайкипии. Количественные данные, вероятно, указывают на то, что домашний скот содержался в небольших количествах и был приобретен у соседних скотоводческих популяций. Археологи заключили, что это самый ранний выявленный случай присутствия одомашненной фауны на участке, ранее связанным только с охотой. Недавно на N + 1 мы уже сообщали об удивительной находке в пещере Панга-я-Саиди, где была обнаружена могила с древнейшим захоронением человека в Африке. Кроме того, находящееся неподалеку сомалийское побережье выступало в роли перевалочного пункта средневековой торговли. Михаил Подрезов Нашли опечатку? Выделите фрагмент и нажмите Ctrl+Enter. Коэффициент сложности Коэффициент сложности Коэффициент сложности Коэффициент сложности Коэффициент сложности Коэффициент сложности Коэффициент сложности Коэффициент сложности Коэффициент сложности Коэффициент сложности © 2021 N\\xa0+\\xa01 Интернет-издание \\xa0 Свидетельство о регистрации СМИ Эл № ФС77-67614 Использование всех текстовых материалов без изменений в некоммерческих целях разрешается со ссылкой на N\\xa0+\\xa01. \\n                        Все аудиовизуальные произведения являются собственностью своих авторов и правообладателей и используются \\n                        только в образовательных и информационных целях. Если вы являетесь собственником того или иного произведения \\n                        и не согласны с его размещением на нашем сайте, пожалуйста, напишите на kirill@nplus1.ru Материалы, опубликованные в разделе «Блоги», отражают позиции их авторов, которые могут не совпадать с мнением редакции. Сайт может содержать контент, не предназначенный для лиц младше 18 лет. \\nПолитика обработки персональных данных пользователей сайта\\n \\n\\nChange privacy settings\\n \\n'"
      ]
     },
     "execution_count": 25,
     "metadata": {},
     "output_type": "execute_result"
    }
   ],
   "source": [
    "final_text = ' '.join(text)\n",
    "final_text"
   ]
  },
  {
   "cell_type": "markdown",
   "metadata": {},
   "source": [
    "Все здорово, только мешают отступы-переходы на новую строку `\\n`. Заменим их на пробелы с помощью метода `.replace`:"
   ]
  },
  {
   "cell_type": "code",
   "execution_count": 26,
   "metadata": {},
   "outputs": [],
   "source": [
    "final_text = final_text.replace('\\n', ' ')"
   ]
  },
  {
   "cell_type": "markdown",
   "metadata": {},
   "source": [
    "Теперь осталось совсем чуть-чуть. Написать готовую функцию для всех проделанных нами действий и применить ее в цикле для всех ссылок в списке `full_urls`. Напишем! Аргументом функции будет ссылка на новость, а возвращать она будет текст новости и всю необходимую информацию (дата, автор, сложность и проч.). Скопируем все строки кода выше."
   ]
  },
  {
   "cell_type": "code",
   "execution_count": 37,
   "metadata": {},
   "outputs": [],
   "source": [
    "def GetNews(url0):\n",
    "    \"\"\"\n",
    "    Returns a tuple with url0, date, author, description, title, final_text, rubrics, diff.\n",
    "    Parameters:\n",
    "    \n",
    "    url0 is a link to the news (string)\n",
    "    \"\"\"\n",
    "    page0 = requests.get(url0)\n",
    "    soup0 = BeautifulSoup(page0.text, 'lxml')\n",
    "    author = soup0.find_all('meta', {'name' : 'author'})[0].attrs['content']\n",
    "    date = soup0.find_all('meta', {'itemprop' : 'datePublished'})[0].attrs['content']\n",
    "    title = soup0.find_all('meta', {'property' : 'og:title'})[0].attrs['content']\n",
    "    description = soup0.find_all('meta', {'name' : 'description'})[0].attrs['content']\n",
    "    rubrics = ','.join([r.text for r in soup0.find_all('p')[0].find_all('a')])\n",
    "    diff = soup0.find_all('span', {'class' : 'difficult-value'})[0].text\n",
    "    text_list = soup0.find_all('p', {'class' : None})\n",
    "    text = [t.text for t in text_list]\n",
    "    final_text = ' '.join(text)\n",
    "    final_text = final_text.replace('\\n', ' ')\n",
    "    \n",
    "    return url0, date, author, description, title, final_text, rubrics, diff"
   ]
  },
  {
   "cell_type": "markdown",
   "metadata": {},
   "source": [
    "Уфф. Осталось применить ее в цикле. Но давайте не будем спешить: импортируем функцию `sleep` для задержки, чтобы на каждой итерации цикла, прежде чем перейти к следующей новости, Python ждал несколько секунд. Во-первых, это нужно, чтобы сайт «не понял», чтобы мы его грабим, да еще автоматически. Во-вторых, с небольшой задержкой всегда есть гарантия, что страница прогрузится (сейчас это пока не очень важно, но особенно актуально будет, когда будем обсуждать встраивание в браузер с Selenium). Приступим."
   ]
  },
  {
   "cell_type": "code",
   "execution_count": 38,
   "metadata": {},
   "outputs": [],
   "source": [
    "from time import sleep"
   ]
  },
  {
   "cell_type": "code",
   "execution_count": 39,
   "metadata": {},
   "outputs": [],
   "source": [
    "news = [] # это будет список из кортежей, в которых будут храниться данные по каждой новости\n",
    "\n",
    "for link in full_urls:\n",
    "    res = GetNews(link)\n",
    "    news.append(res)\n",
    "    sleep(3) # задержка в 3 секунды"
   ]
  },
  {
   "cell_type": "markdown",
   "metadata": {},
   "source": [
    "Так теперь выглядит первый элемент списка:"
   ]
  },
  {
   "cell_type": "code",
   "execution_count": 40,
   "metadata": {},
   "outputs": [
    {
     "data": {
      "text/plain": [
       "('https://nplus1.ru/news/2021/05/17/upupa-epops',\n",
       " '2021-05-17',\n",
       " 'Сергей Коленов',\n",
       " 'Окраска яиц секретом копчиковой железы оказалась признаком, связанным с шансами на появление птенцов.',\n",
       " 'Удоды охладели к самкам с насыщенно раскрашенными яйцами',\n",
       " 'Самки удодов окрашивают отложенные яйца секретом копчиковой железы\\xa0— он\\xa0содержит симбиотические бактерии, которые вырабатывают антибиотики и\\xa0защищают развивающийся зародыш от\\xa0инфекций. В\\xa0результате яйца приобретают зеленовато-серый оттенок. Испанские орнитологи экспериментально продемонстрировали, что самцы придирчиво оценивают цвет кладки\\xa0и, если он\\xa0слишком насыщенный (это указывает, что концентрация симбиотических бактерий в\\xa0секрете низкая), приносят самке меньше корма. Напротив, менее интенсивная окраска заставляет самцов активнее снабжать партнершу пищей. Как отмечается в\\xa0статье для журнала Proceedings of\\xa0the Royal Society\\xa0B, вклад самца зависит от\\xa0того, насколько велики шансы на\\xa0вылупление здоровых птенцов\\xa0— и\\xa0цвет скорлупы помогает ему оценить эту вероятность. Яйца многих видов птиц ярко окрашены или покрыты узорами из\\xa0пятен и\\xa0полосок. Подобная расцветка нередко выполняет важные функции, например, служит для терморегуляции, маскирует кладку от\\xa0хищников, а\\xa0также позволяет родителям обнаруживать в\\xa0гнезде яйца, подброшенные кукушками и\\xa0другими гнездовыми паразитами. Кроме того, согласно предположению орнитологов, у\\xa0некоторых птиц определенная окраска яиц служит сигналом, что отложившая их\\xa0самка находится в\\xa0хорошей физической форме. Самцы таких видов, вероятно, ориентируются на\\xa0расцветку яиц в\\xa0кладке, когда делают выбор, как много усилий тратить на снабжение партнерши кормом. Если цвет скорлупы указывают, что самка здорова, то\\xa0из отложенных ей яиц с\\xa0высокой вероятностью вылупятся птенцы, у\\xa0которых хорошие шансы дожить до\\xa0половой зрелости. Самцу выгодно вкладывать усилия в\\xa0такую партнершу\\xa0— поэтому он\\xa0будет чаще приносить ей\\xa0корм. До\\xa0сих пор специалисты изучали данный вопрос на\\xa0птицах, у\\xa0которых окраска яиц зависит от\\xa0наличия пигментов в\\xa0скорлупе. Однако у\\xa0ряда видов цвет яичной скорлупы зависит от\\xa0других факторов. Например, самки удодов (Upupa epops) клювом\\xa0наносят на\\xa0яйца маслянистый секрет копчиковой железы, содержащий симбиотические бактерии (они производят антибиотики, которые защищают яйцо от\\xa0болезнетворных микроорганизмов). В\\xa0результате цвет скорлупы меняется с\\xa0голубоватого на\\xa0зеленовато-серый. При этом чем темнее секрет, тем меньше в\\xa0нем симбиотических бактерий и\\xa0тем ниже его эффективность против инфекций (также данное вещество имеет неприятный запах и используется, чтобы отпугивать от гнезда хищников).\\xa0  Орнитолог Сильвия Диаз-Лора (Silvia Díaz-Lora) из\\xa0Гранадского университета и\\xa0ее\\xa0коллеги предположили, что удоды-самцы оценивают интенсивность окраски яиц\\xa0и, если она не\\xa0слишком насыщенная, приносят самке больше корма. В\\xa0данном случае цвет скорлупы может свидетельствовать не\\xa0только о\\xa0здоровье партнерши и\\xa0наличии у\\xa0нее развитой микробиоты, которая передастся потомству, но\\xa0и\\xa0о\\xa0том, насколько хорошо эмбрионы защищены от\\xa0инфекций и\\xa0какова вероятность вылупления птенцов. Кладку у\\xa0удодов насиживает только самка (птенцов при этом кормят оба родителя)\\xa0— и\\xa0наблюдения показывают, что самец, который приносит ей\\xa0пищу, старается заглянуть в\\xa0расположенное в\\xa0дупле или норе гнездо, чтобы увидеть яйца. Такое поведение свидетельствует в\\xa0пользу гипотезы Диаз-Лоры и\\xa0ее\\xa0коллег. Тем не\\xa0менее исследователи решили получить более твердые доказательства\\xa0— и\\xa0для этого провели полевой эксперимент. В\\xa02016 году Диаз-Лора с\\xa0коллегами отправились на\\xa0юг\\xa0Испании, где популяцию удодов, размножающуюся в\\xa0дуплянках, изучают уже около 25\\xa0лет. Они выбрали шестьдесят одно гнездо, в\\xa0каждом пометили цветными кольцами обоих родителей и\\xa0оценили физическое состояние самок. Когда в\\xa0кладках было по\\xa0шесть яиц, их\\xa0поменяли местами так, чтобы в\\xa0некоторых случаях интенсивно окрашенные яйца оказались в\\xa0гнездах, где изначально присутствовали слабо окрашенные яйца, и\\xa0наоборот. Для оценки вклада самцов их\\xa0визиты в\\xa0гнезда фиксировали на\\xa0видеокамеру в\\xa0течение пяти дней после откладки последнего яйца и\\xa0в\\xa0течение трех дней после обмена яиц. Исследователей интересовало, как часто те\\xa0прилетают с\\xa0кормом и\\xa0насколько крупную добычу приносят. Анализ показал, что цвет яиц, перенесенных в\\xa0чужие гнезда, остался прежним 10-15\\xa0дней спустя. При этом, как и\\xa0ожидали авторы, обмен кладок сказался на\\xa0поведении самцов. Удоды-самцы, заметившие, что яйца в\\xa0их\\xa0гнезде приобрели более интенсивную окраску (что свидетельствует о\\xa0меньшей концентрации бактерий в\\xa0секрете, покрывающем скорлупу), начинали реже кормить самок. Напротив, если цветовая насыщенность яичной скорлупы снижалась, самцы увеличивали частоту кормлений. Наконец, в\\xa0гнездах, где цвет яичной скорлупы у\\xa0подброшенных яиц был примерно таким\\xa0же, как у\\xa0родных, поведение самцов после обмена не\\xa0изменилось. Кроме того, удоды-самцы менее охотно кормили самок, если яйца в\\xa0кладке в результате обмена приобретали более фиолетовый оттенок (и\\xa0наоборот), однако, пока неясно, какую информацию может передавать этот признак. Таким образом, когда самцы удодов решают, как много усилий тратить на\\xa0снабжение самки пищей, они действительно ориентируются на\\xa0насыщенность окраски яиц. Другая характеристика, которая влияет на\\xa0их\\xa0выбор\\xa0— средний объем яиц. Авторы обнаружили, что, если он\\xa0уменьшается, самцы немного увеличивают частоту кормлений. Впрочем, вклад этого фактора невелик по\\xa0сравнению с расцветкой яиц. Диаз-Лора и\\xa0ее\\xa0коллеги отмечают, что, хотя окраска скорлупы удодов в\\xa0конечном счете зависит от\\xa0симбиотических бактерий, она могла эволюционировать под воздействием полового отбора. Поскольку самцы чаще кормят самок, которые окрашивают яйца в\\xa0менее насыщенные цвета, у\\xa0тех больше шансов вырастить здоровых птенцов и\\xa0передать гены следующим поколениям. При этом удоды-самцы могут полагаться на\\xa0данный признак, поскольку он\\xa0дорогостоящий (производство секрета копчиковой железы требует определенных затрат энергии) и самкам сложно его подделать. Сегодня считается, что первыми цветные яйца начали откладывать нептичьи динозавры в\\xa0мезозое. Например, немецкие исследователи нашли в\\xa0стенках яиц динозавров из\\xa0рода овирапторов следы двух пигментов, которые должны были придавать им\\xa0сине-зеленый цвет. Согласно более позднему исследованию американских палеонтологов, скорлупа яиц многих видов динозавров, обитавших на\\xa0различных континентах в\\xa0разные эпохи, имела зеленый, голубоватый или розовый цвета. Сергей Коленов Нашли опечатку? Выделите фрагмент и нажмите Ctrl+Enter. Коэффициент сложности Коэффициент сложности Коэффициент сложности Коэффициент сложности Коэффициент сложности Коэффициент сложности Коэффициент сложности Коэффициент сложности Коэффициент сложности Коэффициент сложности © 2021 N\\xa0+\\xa01 Интернет-издание \\xa0 Свидетельство о регистрации СМИ Эл № ФС77-67614 Использование всех текстовых материалов без изменений в некоммерческих целях разрешается со ссылкой на N\\xa0+\\xa01.                          Все аудиовизуальные произведения являются собственностью своих авторов и правообладателей и используются                          только в образовательных и информационных целях. Если вы являетесь собственником того или иного произведения                          и не согласны с его размещением на нашем сайте, пожалуйста, напишите на kirill@nplus1.ru Материалы, опубликованные в разделе «Блоги», отражают позиции их авторов, которые могут не совпадать с мнением редакции. Сайт может содержать контент, не предназначенный для лиц младше 18 лет.  Политика обработки персональных данных пользователей сайта    Change privacy settings   ',\n",
       " 'Зоология',\n",
       " '3.1')"
      ]
     },
     "execution_count": 40,
     "metadata": {},
     "output_type": "execute_result"
    }
   ],
   "source": [
    "news[0]"
   ]
  },
  {
   "cell_type": "markdown",
   "metadata": {},
   "source": [
    "Импортируем `pandas` и создадим датафрейм из списка кортежей: "
   ]
  },
  {
   "cell_type": "code",
   "execution_count": 41,
   "metadata": {},
   "outputs": [],
   "source": [
    "import pandas as pd"
   ]
  },
  {
   "cell_type": "code",
   "execution_count": 42,
   "metadata": {},
   "outputs": [],
   "source": [
    "df = pd.DataFrame(news)"
   ]
  },
  {
   "cell_type": "code",
   "execution_count": 43,
   "metadata": {},
   "outputs": [
    {
     "data": {
      "text/html": [
       "<div>\n",
       "<style scoped>\n",
       "    .dataframe tbody tr th:only-of-type {\n",
       "        vertical-align: middle;\n",
       "    }\n",
       "\n",
       "    .dataframe tbody tr th {\n",
       "        vertical-align: top;\n",
       "    }\n",
       "\n",
       "    .dataframe thead th {\n",
       "        text-align: right;\n",
       "    }\n",
       "</style>\n",
       "<table border=\"1\" class=\"dataframe\">\n",
       "  <thead>\n",
       "    <tr style=\"text-align: right;\">\n",
       "      <th></th>\n",
       "      <th>0</th>\n",
       "      <th>1</th>\n",
       "      <th>2</th>\n",
       "      <th>3</th>\n",
       "      <th>4</th>\n",
       "      <th>5</th>\n",
       "      <th>6</th>\n",
       "      <th>7</th>\n",
       "    </tr>\n",
       "  </thead>\n",
       "  <tbody>\n",
       "    <tr>\n",
       "      <th>0</th>\n",
       "      <td>https://nplus1.ru/news/2021/05/17/upupa-epops</td>\n",
       "      <td>2021-05-17</td>\n",
       "      <td>Сергей Коленов</td>\n",
       "      <td>Окраска яиц секретом копчиковой железы оказала...</td>\n",
       "      <td>Удоды охладели к самкам с насыщенно раскрашенн...</td>\n",
       "      <td>Самки удодов окрашивают отложенные яйца секрет...</td>\n",
       "      <td>Зоология</td>\n",
       "      <td>3.1</td>\n",
       "    </tr>\n",
       "    <tr>\n",
       "      <th>1</th>\n",
       "      <td>https://nplus1.ru/news/2021/05/17/hunting-herd...</td>\n",
       "      <td>2021-05-17</td>\n",
       "      <td>Михаил Подрезов</td>\n",
       "      <td>Первые козы и крупно рогатый скот появились в ...</td>\n",
       "      <td>Древние охотники с кенийского побережья выменя...</td>\n",
       "      <td>Археологи обнаружили самый ранний случай прису...</td>\n",
       "      <td>Археология,История</td>\n",
       "      <td>2.7</td>\n",
       "    </tr>\n",
       "  </tbody>\n",
       "</table>\n",
       "</div>"
      ],
      "text/plain": [
       "                                                   0           1  \\\n",
       "0      https://nplus1.ru/news/2021/05/17/upupa-epops  2021-05-17   \n",
       "1  https://nplus1.ru/news/2021/05/17/hunting-herd...  2021-05-17   \n",
       "\n",
       "                 2                                                  3  \\\n",
       "0   Сергей Коленов  Окраска яиц секретом копчиковой железы оказала...   \n",
       "1  Михаил Подрезов  Первые козы и крупно рогатый скот появились в ...   \n",
       "\n",
       "                                                   4  \\\n",
       "0  Удоды охладели к самкам с насыщенно раскрашенн...   \n",
       "1  Древние охотники с кенийского побережья выменя...   \n",
       "\n",
       "                                                   5                   6    7  \n",
       "0  Самки удодов окрашивают отложенные яйца секрет...            Зоология  3.1  \n",
       "1  Археологи обнаружили самый ранний случай прису...  Археология,История  2.7  "
      ]
     },
     "execution_count": 43,
     "metadata": {},
     "output_type": "execute_result"
    }
   ],
   "source": [
    "df.head(2)"
   ]
  },
  {
   "cell_type": "markdown",
   "metadata": {},
   "source": [
    "Переименуем столбцы в базе."
   ]
  },
  {
   "cell_type": "code",
   "execution_count": 44,
   "metadata": {},
   "outputs": [],
   "source": [
    "df.columns = ['link', 'date', 'author', 'desc', 'title', 'text', 'rubric', 'diffc']"
   ]
  },
  {
   "cell_type": "code",
   "execution_count": 45,
   "metadata": {},
   "outputs": [
    {
     "data": {
      "text/html": [
       "<div>\n",
       "<style scoped>\n",
       "    .dataframe tbody tr th:only-of-type {\n",
       "        vertical-align: middle;\n",
       "    }\n",
       "\n",
       "    .dataframe tbody tr th {\n",
       "        vertical-align: top;\n",
       "    }\n",
       "\n",
       "    .dataframe thead th {\n",
       "        text-align: right;\n",
       "    }\n",
       "</style>\n",
       "<table border=\"1\" class=\"dataframe\">\n",
       "  <thead>\n",
       "    <tr style=\"text-align: right;\">\n",
       "      <th></th>\n",
       "      <th>link</th>\n",
       "      <th>date</th>\n",
       "      <th>author</th>\n",
       "      <th>desc</th>\n",
       "      <th>title</th>\n",
       "      <th>text</th>\n",
       "      <th>rubric</th>\n",
       "      <th>diffc</th>\n",
       "    </tr>\n",
       "  </thead>\n",
       "  <tbody>\n",
       "    <tr>\n",
       "      <th>0</th>\n",
       "      <td>https://nplus1.ru/news/2021/05/17/upupa-epops</td>\n",
       "      <td>2021-05-17</td>\n",
       "      <td>Сергей Коленов</td>\n",
       "      <td>Окраска яиц секретом копчиковой железы оказала...</td>\n",
       "      <td>Удоды охладели к самкам с насыщенно раскрашенн...</td>\n",
       "      <td>Самки удодов окрашивают отложенные яйца секрет...</td>\n",
       "      <td>Зоология</td>\n",
       "      <td>3.1</td>\n",
       "    </tr>\n",
       "    <tr>\n",
       "      <th>1</th>\n",
       "      <td>https://nplus1.ru/news/2021/05/17/hunting-herd...</td>\n",
       "      <td>2021-05-17</td>\n",
       "      <td>Михаил Подрезов</td>\n",
       "      <td>Первые козы и крупно рогатый скот появились в ...</td>\n",
       "      <td>Древние охотники с кенийского побережья выменя...</td>\n",
       "      <td>Археологи обнаружили самый ранний случай прису...</td>\n",
       "      <td>Археология,История</td>\n",
       "      <td>2.7</td>\n",
       "    </tr>\n",
       "  </tbody>\n",
       "</table>\n",
       "</div>"
      ],
      "text/plain": [
       "                                                link        date  \\\n",
       "0      https://nplus1.ru/news/2021/05/17/upupa-epops  2021-05-17   \n",
       "1  https://nplus1.ru/news/2021/05/17/hunting-herd...  2021-05-17   \n",
       "\n",
       "            author                                               desc  \\\n",
       "0   Сергей Коленов  Окраска яиц секретом копчиковой железы оказала...   \n",
       "1  Михаил Подрезов  Первые козы и крупно рогатый скот появились в ...   \n",
       "\n",
       "                                               title  \\\n",
       "0  Удоды охладели к самкам с насыщенно раскрашенн...   \n",
       "1  Древние охотники с кенийского побережья выменя...   \n",
       "\n",
       "                                                text              rubric diffc  \n",
       "0  Самки удодов окрашивают отложенные яйца секрет...            Зоология   3.1  \n",
       "1  Археологи обнаружили самый ранний случай прису...  Археология,История   2.7  "
      ]
     },
     "execution_count": 45,
     "metadata": {},
     "output_type": "execute_result"
    }
   ],
   "source": [
    "df.head(2)"
   ]
  },
  {
   "cell_type": "markdown",
   "metadata": {},
   "source": [
    "Теперь внесем изменения: сделаем столбец `diffc` числовым – типа *float*."
   ]
  },
  {
   "cell_type": "code",
   "execution_count": 46,
   "metadata": {},
   "outputs": [],
   "source": [
    "df.to_excel('nplus-news.xlsx')"
   ]
  },
  {
   "cell_type": "code",
   "execution_count": null,
   "metadata": {},
   "outputs": [],
   "source": []
  }
 ],
 "metadata": {
  "kernelspec": {
   "display_name": "Python 3",
   "language": "python",
   "name": "python3"
  },
  "language_info": {
   "codemirror_mode": {
    "name": "ipython",
    "version": 3
   },
   "file_extension": ".py",
   "mimetype": "text/x-python",
   "name": "python",
   "nbconvert_exporter": "python",
   "pygments_lexer": "ipython3",
   "version": "3.8.5"
  }
 },
 "nbformat": 4,
 "nbformat_minor": 4
}
