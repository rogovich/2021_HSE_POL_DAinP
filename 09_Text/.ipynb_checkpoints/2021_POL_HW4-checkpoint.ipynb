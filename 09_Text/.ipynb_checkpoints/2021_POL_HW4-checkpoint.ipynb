{
 "cells": [
  {
   "cell_type": "code",
   "execution_count": 6,
   "metadata": {},
   "outputs": [],
   "source": [
    "import requests\n",
    "from bs4 import BeautifulSoup\n",
    "\n",
    "link = 'https://lenta.ru/rubrics/science/'\n",
    "soup = BeautifulSoup(requests.get(link).text)"
   ]
  },
  {
   "cell_type": "code",
   "execution_count": null,
   "metadata": {},
   "outputs": [],
   "source": [
    "#<div class=\"item news b-tabloid__topic_news\" data-partslug=\"text\"><div class=\"info g-date item__info\"><span class=\"g-date item__date\"><span class=\"time\">09:14</span><span class=\"item__mdash\"> — </span>Сегодня</span></div><div class=\"titles\"><h3><a href=\"/news/2021/05/17/error/\"><span>В Windows нашли неизвестную ошибку</span></a></h3></div></div>"
   ]
  },
  {
   "cell_type": "code",
   "execution_count": 14,
   "metadata": {},
   "outputs": [],
   "source": [
    "articles = soup.find_all('div', {'class':\"item news b-tabloid__topic_news\"})"
   ]
  },
  {
   "cell_type": "code",
   "execution_count": 20,
   "metadata": {},
   "outputs": [],
   "source": [
    "links = []\n",
    "for article in articles:\n",
    "    links += ['https://lenta.ru' + article.find('a').get('href')]"
   ]
  },
  {
   "cell_type": "code",
   "execution_count": 22,
   "metadata": {},
   "outputs": [
    {
     "data": {
      "text/plain": [
       "'https://lenta.ru/news/2021/05/17/covidfit/'"
      ]
     },
     "execution_count": 22,
     "metadata": {},
     "output_type": "execute_result"
    }
   ],
   "source": [
    "links[0]"
   ]
  },
  {
   "cell_type": "code",
   "execution_count": 39,
   "metadata": {},
   "outputs": [],
   "source": [
    "def get_news(link):\n",
    "    soup = BeautifulSoup(requests.get(link).text)\n",
    "    content = soup.find('div', {'class':'b-topic__content'}).find_all('p', {'class':None})\n",
    "    return ' '.join([p.text for p in content])"
   ]
  },
  {
   "cell_type": "code",
   "execution_count": 40,
   "metadata": {},
   "outputs": [],
   "source": [
    "news = []\n",
    "for link in links:\n",
    "    news.append([get_news(link), 'Наука'])"
   ]
  },
  {
   "cell_type": "code",
   "execution_count": 48,
   "metadata": {},
   "outputs": [],
   "source": [
    "rubrics = ['https://lenta.ru/rubrics/science/', 'https://lenta.ru/rubrics/culture/',\n",
    "           'https://lenta.ru/rubrics/sport/', 'https://lenta.ru/rubrics/economics/',\n",
    "           'https://lenta.ru/rubrics/travel/']\n",
    "\n",
    "\n",
    "def get_rubric(rub_link):\n",
    "    rub_name = rub_link.split('/')[-2]\n",
    "    soup = BeautifulSoup(requests.get(rub_link).text)\n",
    "    articles = soup.find_all('div', {'class':\"item news b-tabloid__topic_news\"})\n",
    "    links = []\n",
    "    for article in articles:\n",
    "        links += ['https://lenta.ru' + article.find('a').get('href')]\n",
    "    news = []\n",
    "    for link in links:\n",
    "        soup = BeautifulSoup(requests.get(link).text)\n",
    "        content = soup.find('div', {'class':'b-topic__content'}).find_all('p', {'class':None})\n",
    "        news.append([' '.join([p.text for p in content]), rub_name])\n",
    "    return news\n",
    "\n",
    "all_news = []\n",
    "for link in rubrics:\n",
    "    all_news += get_rubric(link)"
   ]
  },
  {
   "cell_type": "code",
   "execution_count": 44,
   "metadata": {},
   "outputs": [],
   "source": [
    "import pandas as pd"
   ]
  },
  {
   "cell_type": "code",
   "execution_count": 54,
   "metadata": {},
   "outputs": [
    {
     "data": {
      "text/html": [
       "<div>\n",
       "<style scoped>\n",
       "    .dataframe tbody tr th:only-of-type {\n",
       "        vertical-align: middle;\n",
       "    }\n",
       "\n",
       "    .dataframe tbody tr th {\n",
       "        vertical-align: top;\n",
       "    }\n",
       "\n",
       "    .dataframe thead th {\n",
       "        text-align: right;\n",
       "    }\n",
       "</style>\n",
       "<table border=\"1\" class=\"dataframe\">\n",
       "  <thead>\n",
       "    <tr style=\"text-align: right;\">\n",
       "      <th></th>\n",
       "      <th>text</th>\n",
       "      <th>label</th>\n",
       "    </tr>\n",
       "  </thead>\n",
       "  <tbody>\n",
       "    <tr>\n",
       "      <th>0</th>\n",
       "      <td>Ученые Университета Торонто в Канаде определил...</td>\n",
       "      <td>science</td>\n",
       "    </tr>\n",
       "    <tr>\n",
       "      <th>1</th>\n",
       "      <td>Международная группа ученых раскрыла загадку, ...</td>\n",
       "      <td>science</td>\n",
       "    </tr>\n",
       "    <tr>\n",
       "      <th>2</th>\n",
       "      <td>«Роскосмос» намерен выделить на первый этап из...</td>\n",
       "      <td>science</td>\n",
       "    </tr>\n",
       "    <tr>\n",
       "      <th>3</th>\n",
       "      <td>Специалисты Потсдамского института изменения к...</td>\n",
       "      <td>science</td>\n",
       "    </tr>\n",
       "    <tr>\n",
       "      <th>4</th>\n",
       "      <td>Microsoft отказалась от выпуска операционной с...</td>\n",
       "      <td>science</td>\n",
       "    </tr>\n",
       "  </tbody>\n",
       "</table>\n",
       "</div>"
      ],
      "text/plain": [
       "                                                text    label\n",
       "0  Ученые Университета Торонто в Канаде определил...  science\n",
       "1  Международная группа ученых раскрыла загадку, ...  science\n",
       "2  «Роскосмос» намерен выделить на первый этап из...  science\n",
       "3  Специалисты Потсдамского института изменения к...  science\n",
       "4  Microsoft отказалась от выпуска операционной с...  science"
      ]
     },
     "execution_count": 54,
     "metadata": {},
     "output_type": "execute_result"
    }
   ],
   "source": [
    "df = pd.DataFrame(all_news, columns=['text', 'label'])\n",
    "df.head()"
   ]
  },
  {
   "cell_type": "code",
   "execution_count": 143,
   "metadata": {},
   "outputs": [
    {
     "name": "stderr",
     "output_type": "stream",
     "text": [
      "[nltk_data] Downloading package stopwords to\n",
      "[nltk_data]     /Users/rogovich/nltk_data...\n",
      "[nltk_data]   Package stopwords is already up-to-date!\n"
     ]
    },
    {
     "data": {
      "text/plain": [
       "True"
      ]
     },
     "execution_count": 143,
     "metadata": {},
     "output_type": "execute_result"
    }
   ],
   "source": [
    "import nltk\n",
    "nltk.download(\"stopwords\")"
   ]
  },
  {
   "cell_type": "code",
   "execution_count": 125,
   "metadata": {},
   "outputs": [],
   "source": [
    "import pymorphy2\n",
    "import re\n",
    "lemm = pymorphy2.MorphAnalyzer()\n",
    "\n",
    "def normalize_text(text):\n",
    "    text = re.findall(r'\\b[А-яЕё]+(?:-[А-яЕё]+)*\\b', text)\n",
    "    return ' '.join([lemm.normal_forms(word)[0] for word in text])\n",
    "    \n",
    "df['text'] = df['text'].apply(normalize_text)"
   ]
  },
  {
   "cell_type": "code",
   "execution_count": 182,
   "metadata": {},
   "outputs": [],
   "source": [
    "from sklearn.model_selection import train_test_split\n",
    "X_tr, X_te, y_tr, y_te = train_test_split(df['text'], df['label'])"
   ]
  },
  {
   "cell_type": "code",
   "execution_count": 179,
   "metadata": {},
   "outputs": [],
   "source": [
    "model = CountVectorizer(max_df=0.8)"
   ]
  },
  {
   "cell_type": "code",
   "execution_count": 185,
   "metadata": {},
   "outputs": [],
   "source": [
    "train_features = model.fit_transform(X_tr)\n",
    "test_features = model.transform(X_te)"
   ]
  },
  {
   "cell_type": "code",
   "execution_count": 186,
   "metadata": {},
   "outputs": [],
   "source": [
    "from sklearn.ensemble import RandomForestClassifier"
   ]
  },
  {
   "cell_type": "code",
   "execution_count": 187,
   "metadata": {},
   "outputs": [
    {
     "data": {
      "text/plain": [
       "array(['science', 'sport', 'science', 'economics', 'culture', 'economics',\n",
       "       'economics', 'science', 'sport', 'science', 'science', 'science',\n",
       "       'economics', 'economics', 'economics', 'travel', 'science',\n",
       "       'sport', 'sport', 'science', 'science', 'economics', 'travel',\n",
       "       'culture', 'travel', 'culture', 'science', 'culture', 'science',\n",
       "       'science', 'economics', 'science', 'economics', 'travel',\n",
       "       'science', 'culture', 'travel', 'culture', 'travel', 'culture',\n",
       "       'travel', 'economics', 'culture', 'travel', 'culture', 'sport',\n",
       "       'science', 'culture', 'economics', 'culture', 'science', 'culture',\n",
       "       'economics', 'economics', 'science', 'sport', 'economics',\n",
       "       'culture', 'science', 'sport', 'sport', 'science', 'science',\n",
       "       'economics', 'sport', 'economics', 'culture', 'travel',\n",
       "       'economics', 'travel', 'economics', 'economics', 'sport',\n",
       "       'culture', 'science', 'science', 'economics', 'travel', 'travel',\n",
       "       'culture', 'culture', 'culture', 'science', 'travel', 'science',\n",
       "       'culture', 'travel', 'travel', 'travel', 'science'], dtype=object)"
      ]
     },
     "execution_count": 187,
     "metadata": {},
     "output_type": "execute_result"
    }
   ],
   "source": [
    "forest = RandomForestClassifier()\n",
    "forest.fit(train_features, y_tr)\n",
    "forest.predict(test_features)"
   ]
  },
  {
   "cell_type": "code",
   "execution_count": 190,
   "metadata": {},
   "outputs": [
    {
     "data": {
      "text/plain": [
       "0.9222222222222223"
      ]
     },
     "execution_count": 190,
     "metadata": {},
     "output_type": "execute_result"
    }
   ],
   "source": [
    "from sklearn.metrics import accuracy_score, confusion_matrix\n",
    "accuracy_score(forest.predict(test_features), y_te)"
   ]
  },
  {
   "cell_type": "code",
   "execution_count": 199,
   "metadata": {},
   "outputs": [
    {
     "data": {
      "text/html": [
       "<div>\n",
       "<style scoped>\n",
       "    .dataframe tbody tr th:only-of-type {\n",
       "        vertical-align: middle;\n",
       "    }\n",
       "\n",
       "    .dataframe tbody tr th {\n",
       "        vertical-align: top;\n",
       "    }\n",
       "\n",
       "    .dataframe thead th {\n",
       "        text-align: right;\n",
       "    }\n",
       "</style>\n",
       "<table border=\"1\" class=\"dataframe\">\n",
       "  <thead>\n",
       "    <tr style=\"text-align: right;\">\n",
       "      <th></th>\n",
       "      <th>culture</th>\n",
       "      <th>economics</th>\n",
       "      <th>science</th>\n",
       "      <th>sport</th>\n",
       "      <th>travel</th>\n",
       "    </tr>\n",
       "  </thead>\n",
       "  <tbody>\n",
       "    <tr>\n",
       "      <th>culture</th>\n",
       "      <td>18</td>\n",
       "      <td>0</td>\n",
       "      <td>0</td>\n",
       "      <td>0</td>\n",
       "      <td>0</td>\n",
       "    </tr>\n",
       "    <tr>\n",
       "      <th>economics</th>\n",
       "      <td>0</td>\n",
       "      <td>18</td>\n",
       "      <td>3</td>\n",
       "      <td>0</td>\n",
       "      <td>0</td>\n",
       "    </tr>\n",
       "    <tr>\n",
       "      <th>science</th>\n",
       "      <td>0</td>\n",
       "      <td>2</td>\n",
       "      <td>21</td>\n",
       "      <td>0</td>\n",
       "      <td>0</td>\n",
       "    </tr>\n",
       "    <tr>\n",
       "      <th>sport</th>\n",
       "      <td>1</td>\n",
       "      <td>0</td>\n",
       "      <td>0</td>\n",
       "      <td>10</td>\n",
       "      <td>0</td>\n",
       "    </tr>\n",
       "    <tr>\n",
       "      <th>travel</th>\n",
       "      <td>0</td>\n",
       "      <td>0</td>\n",
       "      <td>1</td>\n",
       "      <td>0</td>\n",
       "      <td>16</td>\n",
       "    </tr>\n",
       "  </tbody>\n",
       "</table>\n",
       "</div>"
      ],
      "text/plain": [
       "           culture  economics  science  sport  travel\n",
       "culture         18          0        0      0       0\n",
       "economics        0         18        3      0       0\n",
       "science          0          2       21      0       0\n",
       "sport            1          0        0     10       0\n",
       "travel           0          0        1      0      16"
      ]
     },
     "execution_count": 199,
     "metadata": {},
     "output_type": "execute_result"
    }
   ],
   "source": [
    "pd.DataFrame(confusion_matrix(y_te, forest.predict(test_features), \n",
    "            labels=sorted(set(y_te))), columns = sorted(set(y_te)), \n",
    "            index=sorted(set(y_te)))"
   ]
  },
  {
   "cell_type": "code",
   "execution_count": 202,
   "metadata": {},
   "outputs": [
    {
     "data": {
      "text/plain": [
       "11"
      ]
     },
     "execution_count": 202,
     "metadata": {},
     "output_type": "execute_result"
    }
   ],
   "source": [
    "list(y_te).count('sport')"
   ]
  },
  {
   "cell_type": "code",
   "execution_count": 204,
   "metadata": {},
   "outputs": [
    {
     "data": {
      "text/plain": [
       "19"
      ]
     },
     "execution_count": 204,
     "metadata": {},
     "output_type": "execute_result"
    }
   ],
   "source": [
    "list(forest.predict(test_features)).count('culture')"
   ]
  },
  {
   "cell_type": "code",
   "execution_count": 211,
   "metadata": {},
   "outputs": [
    {
     "name": "stdout",
     "output_type": "stream",
     "text": [
      "14 science economics\n",
      "16 economics science\n",
      "29 economics science\n",
      "35 sport culture\n",
      "48 science economics\n",
      "82 travel science\n",
      "89 economics science\n"
     ]
    }
   ],
   "source": [
    "for i in range(len(y_te)):\n",
    "    if list(y_te)[i] != list(forest.predict(test_features))[i]:\n",
    "        print(i, list(y_te)[i], list(forest.predict(test_features))[i])"
   ]
  },
  {
   "cell_type": "code",
   "execution_count": 215,
   "metadata": {},
   "outputs": [
    {
     "data": {
      "text/plain": [
       "'украинский теннисистка даян ястремский объяснить попадание допинг в организм о это сообщать по информация издание на первый слушание спортивный арбитражный суд она завить что запретить вещество быть найти у она из-за секс с бывший бойфренд молодой человек отрицать обвинение он также сдать анализ кровь поздний международный федерация теннис запросить у он образец волос на что он ответить отказ отмечаться что в случай подтверждение клевета ястремский к она быть применить дополнительный санкция суд по дело украинка запланировать на второй половина май летний ястремский быть отстранить от соревнование ноябрь прошлое год после положительный допинг-тест в она организм наслать метаболит запретить вещество местеролон в данный момент она занимать быть место в рейтинг женский теннисный ассоциация'"
      ]
     },
     "execution_count": 215,
     "metadata": {},
     "output_type": "execute_result"
    }
   ],
   "source": [
    "X_te.iloc[35]"
   ]
  },
  {
   "cell_type": "code",
   "execution_count": null,
   "metadata": {},
   "outputs": [],
   "source": []
  }
 ],
 "metadata": {
  "kernelspec": {
   "display_name": "Python 3",
   "language": "python",
   "name": "python3"
  },
  "language_info": {
   "codemirror_mode": {
    "name": "ipython",
    "version": 3
   },
   "file_extension": ".py",
   "mimetype": "text/x-python",
   "name": "python",
   "nbconvert_exporter": "python",
   "pygments_lexer": "ipython3",
   "version": "3.8.5"
  }
 },
 "nbformat": 4,
 "nbformat_minor": 4
}
